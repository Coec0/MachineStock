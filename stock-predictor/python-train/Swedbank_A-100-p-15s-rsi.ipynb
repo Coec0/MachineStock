{
 "cells": [
  {
   "cell_type": "code",
   "execution_count": 80,
   "metadata": {},
   "outputs": [],
   "source": [
    "import torch\n",
    "from torch import nn\n",
    "from torch.utils.data import TensorDataset\n",
    "from torch.utils.data import DataLoader\n",
    "import torch.nn.functional as F\n",
    "from torch import optim\n",
    "import numpy as np\n",
    "import pandas as pd\n",
    "import datetime\n",
    "import matplotlib.pyplot as plt\n",
    "import math"
   ]
  },
  {
   "cell_type": "code",
   "execution_count": 30,
   "metadata": {},
   "outputs": [],
   "source": [
    "x_data = pd.read_csv(\"../python-docker/Swedbank_A/x_Swedbank_A_100_p.csv\", sep=\";\", usecols = [i for i in range(100)])"
   ]
  },
  {
   "cell_type": "code",
   "execution_count": 26,
   "metadata": {},
   "outputs": [],
   "source": [
    "rsi = pd.read_csv(\"../python-docker/Swedbank_A/x_Swedbank_A_rsi.csv\", sep=\";\", usecols=[\"Swedbank_Arsi\"])"
   ]
  },
  {
   "cell_type": "code",
   "execution_count": 55,
   "metadata": {},
   "outputs": [],
   "source": [
    "y_data = pd.read_csv(\"../python-docker/Swedbank_A/y_Swedbank_A_100.csv\", sep=\";\")"
   ]
  },
  {
   "cell_type": "code",
   "execution_count": 4,
   "metadata": {},
   "outputs": [
    {
     "data": {
      "text/html": [
       "<div>\n",
       "<style scoped>\n",
       "    .dataframe tbody tr th:only-of-type {\n",
       "        vertical-align: middle;\n",
       "    }\n",
       "\n",
       "    .dataframe tbody tr th {\n",
       "        vertical-align: top;\n",
       "    }\n",
       "\n",
       "    .dataframe thead th {\n",
       "        text-align: right;\n",
       "    }\n",
       "</style>\n",
       "<table border=\"1\" class=\"dataframe\">\n",
       "  <thead>\n",
       "    <tr style=\"text-align: right;\">\n",
       "      <th></th>\n",
       "      <th>15s</th>\n",
       "      <th>15ud</th>\n",
       "      <th>30s</th>\n",
       "      <th>30ud</th>\n",
       "      <th>60s</th>\n",
       "      <th>60ud</th>\n",
       "      <th>300s</th>\n",
       "      <th>300ud</th>\n",
       "      <th>600s</th>\n",
       "      <th>600ud</th>\n",
       "      <th>ts</th>\n",
       "    </tr>\n",
       "  </thead>\n",
       "  <tbody>\n",
       "    <tr>\n",
       "      <th>0</th>\n",
       "      <td>144.46</td>\n",
       "      <td>0</td>\n",
       "      <td>144.32</td>\n",
       "      <td>0</td>\n",
       "      <td>144.20</td>\n",
       "      <td>0</td>\n",
       "      <td>144.10</td>\n",
       "      <td>0</td>\n",
       "      <td>144.32</td>\n",
       "      <td>0</td>\n",
       "      <td>1598425200</td>\n",
       "    </tr>\n",
       "    <tr>\n",
       "      <th>1</th>\n",
       "      <td>144.46</td>\n",
       "      <td>0</td>\n",
       "      <td>144.32</td>\n",
       "      <td>0</td>\n",
       "      <td>144.20</td>\n",
       "      <td>0</td>\n",
       "      <td>144.22</td>\n",
       "      <td>0</td>\n",
       "      <td>144.32</td>\n",
       "      <td>0</td>\n",
       "      <td>1598425201</td>\n",
       "    </tr>\n",
       "    <tr>\n",
       "      <th>2</th>\n",
       "      <td>144.46</td>\n",
       "      <td>0</td>\n",
       "      <td>144.32</td>\n",
       "      <td>0</td>\n",
       "      <td>144.20</td>\n",
       "      <td>0</td>\n",
       "      <td>144.26</td>\n",
       "      <td>0</td>\n",
       "      <td>144.32</td>\n",
       "      <td>0</td>\n",
       "      <td>1598425202</td>\n",
       "    </tr>\n",
       "    <tr>\n",
       "      <th>3</th>\n",
       "      <td>144.46</td>\n",
       "      <td>0</td>\n",
       "      <td>144.32</td>\n",
       "      <td>0</td>\n",
       "      <td>144.12</td>\n",
       "      <td>0</td>\n",
       "      <td>144.26</td>\n",
       "      <td>0</td>\n",
       "      <td>144.32</td>\n",
       "      <td>0</td>\n",
       "      <td>1598425203</td>\n",
       "    </tr>\n",
       "    <tr>\n",
       "      <th>4</th>\n",
       "      <td>144.46</td>\n",
       "      <td>0</td>\n",
       "      <td>144.32</td>\n",
       "      <td>0</td>\n",
       "      <td>144.12</td>\n",
       "      <td>0</td>\n",
       "      <td>144.26</td>\n",
       "      <td>0</td>\n",
       "      <td>144.32</td>\n",
       "      <td>0</td>\n",
       "      <td>1598425204</td>\n",
       "    </tr>\n",
       "  </tbody>\n",
       "</table>\n",
       "</div>"
      ],
      "text/plain": [
       "      15s  15ud     30s  30ud     60s  60ud    300s  300ud    600s  600ud  \\\n",
       "0  144.46     0  144.32     0  144.20     0  144.10      0  144.32      0   \n",
       "1  144.46     0  144.32     0  144.20     0  144.22      0  144.32      0   \n",
       "2  144.46     0  144.32     0  144.20     0  144.26      0  144.32      0   \n",
       "3  144.46     0  144.32     0  144.12     0  144.26      0  144.32      0   \n",
       "4  144.46     0  144.32     0  144.12     0  144.26      0  144.32      0   \n",
       "\n",
       "           ts  \n",
       "0  1598425200  \n",
       "1  1598425201  \n",
       "2  1598425202  \n",
       "3  1598425203  \n",
       "4  1598425204  "
      ]
     },
     "execution_count": 4,
     "metadata": {},
     "output_type": "execute_result"
    }
   ],
   "source": [
    "y_data.head()"
   ]
  },
  {
   "cell_type": "code",
   "execution_count": 32,
   "metadata": {},
   "outputs": [
    {
     "name": "stdout",
     "output_type": "stream",
     "text": [
      "(3242927, 100)\n",
      "(3242927, 101)\n"
     ]
    },
    {
     "data": {
      "text/html": [
       "<div>\n",
       "<style scoped>\n",
       "    .dataframe tbody tr th:only-of-type {\n",
       "        vertical-align: middle;\n",
       "    }\n",
       "\n",
       "    .dataframe tbody tr th {\n",
       "        vertical-align: top;\n",
       "    }\n",
       "\n",
       "    .dataframe thead th {\n",
       "        text-align: right;\n",
       "    }\n",
       "</style>\n",
       "<table border=\"1\" class=\"dataframe\">\n",
       "  <thead>\n",
       "    <tr style=\"text-align: right;\">\n",
       "      <th></th>\n",
       "      <th>Swedbank_A-price-0</th>\n",
       "      <th>Swedbank_A-price-1</th>\n",
       "      <th>Swedbank_A-price-2</th>\n",
       "      <th>Swedbank_A-price-3</th>\n",
       "      <th>Swedbank_A-price-4</th>\n",
       "      <th>Swedbank_A-price-5</th>\n",
       "      <th>Swedbank_A-price-6</th>\n",
       "      <th>Swedbank_A-price-7</th>\n",
       "      <th>Swedbank_A-price-8</th>\n",
       "      <th>Swedbank_A-price-9</th>\n",
       "      <th>...</th>\n",
       "      <th>Swedbank_A-price-91</th>\n",
       "      <th>Swedbank_A-price-92</th>\n",
       "      <th>Swedbank_A-price-93</th>\n",
       "      <th>Swedbank_A-price-94</th>\n",
       "      <th>Swedbank_A-price-95</th>\n",
       "      <th>Swedbank_A-price-96</th>\n",
       "      <th>Swedbank_A-price-97</th>\n",
       "      <th>Swedbank_A-price-98</th>\n",
       "      <th>Swedbank_A-price-99</th>\n",
       "      <th>Swedbank_Arsi</th>\n",
       "    </tr>\n",
       "  </thead>\n",
       "  <tbody>\n",
       "    <tr>\n",
       "      <th>0</th>\n",
       "      <td>144.5</td>\n",
       "      <td>144.5</td>\n",
       "      <td>144.5</td>\n",
       "      <td>144.5</td>\n",
       "      <td>144.5</td>\n",
       "      <td>144.5</td>\n",
       "      <td>144.5</td>\n",
       "      <td>144.5</td>\n",
       "      <td>144.5</td>\n",
       "      <td>144.5</td>\n",
       "      <td>...</td>\n",
       "      <td>144.5</td>\n",
       "      <td>144.5</td>\n",
       "      <td>144.5</td>\n",
       "      <td>144.5</td>\n",
       "      <td>144.5</td>\n",
       "      <td>144.5</td>\n",
       "      <td>144.5</td>\n",
       "      <td>144.5</td>\n",
       "      <td>144.5</td>\n",
       "      <td>37.2882</td>\n",
       "    </tr>\n",
       "    <tr>\n",
       "      <th>1</th>\n",
       "      <td>144.5</td>\n",
       "      <td>144.5</td>\n",
       "      <td>144.5</td>\n",
       "      <td>144.5</td>\n",
       "      <td>144.5</td>\n",
       "      <td>144.5</td>\n",
       "      <td>144.5</td>\n",
       "      <td>144.5</td>\n",
       "      <td>144.5</td>\n",
       "      <td>144.5</td>\n",
       "      <td>...</td>\n",
       "      <td>144.5</td>\n",
       "      <td>144.5</td>\n",
       "      <td>144.5</td>\n",
       "      <td>144.5</td>\n",
       "      <td>144.5</td>\n",
       "      <td>144.5</td>\n",
       "      <td>144.5</td>\n",
       "      <td>144.5</td>\n",
       "      <td>144.5</td>\n",
       "      <td>37.2882</td>\n",
       "    </tr>\n",
       "    <tr>\n",
       "      <th>2</th>\n",
       "      <td>144.5</td>\n",
       "      <td>144.5</td>\n",
       "      <td>144.5</td>\n",
       "      <td>144.5</td>\n",
       "      <td>144.5</td>\n",
       "      <td>144.5</td>\n",
       "      <td>144.5</td>\n",
       "      <td>144.5</td>\n",
       "      <td>144.5</td>\n",
       "      <td>144.5</td>\n",
       "      <td>...</td>\n",
       "      <td>144.5</td>\n",
       "      <td>144.5</td>\n",
       "      <td>144.5</td>\n",
       "      <td>144.5</td>\n",
       "      <td>144.5</td>\n",
       "      <td>144.5</td>\n",
       "      <td>144.5</td>\n",
       "      <td>144.5</td>\n",
       "      <td>144.5</td>\n",
       "      <td>37.2882</td>\n",
       "    </tr>\n",
       "    <tr>\n",
       "      <th>3</th>\n",
       "      <td>144.5</td>\n",
       "      <td>144.5</td>\n",
       "      <td>144.5</td>\n",
       "      <td>144.5</td>\n",
       "      <td>144.5</td>\n",
       "      <td>144.5</td>\n",
       "      <td>144.5</td>\n",
       "      <td>144.5</td>\n",
       "      <td>144.5</td>\n",
       "      <td>144.5</td>\n",
       "      <td>...</td>\n",
       "      <td>144.5</td>\n",
       "      <td>144.5</td>\n",
       "      <td>144.5</td>\n",
       "      <td>144.5</td>\n",
       "      <td>144.5</td>\n",
       "      <td>144.5</td>\n",
       "      <td>144.5</td>\n",
       "      <td>144.5</td>\n",
       "      <td>144.5</td>\n",
       "      <td>37.2882</td>\n",
       "    </tr>\n",
       "    <tr>\n",
       "      <th>4</th>\n",
       "      <td>144.5</td>\n",
       "      <td>144.5</td>\n",
       "      <td>144.5</td>\n",
       "      <td>144.5</td>\n",
       "      <td>144.5</td>\n",
       "      <td>144.5</td>\n",
       "      <td>144.5</td>\n",
       "      <td>144.5</td>\n",
       "      <td>144.5</td>\n",
       "      <td>144.5</td>\n",
       "      <td>...</td>\n",
       "      <td>144.5</td>\n",
       "      <td>144.5</td>\n",
       "      <td>144.5</td>\n",
       "      <td>144.5</td>\n",
       "      <td>144.5</td>\n",
       "      <td>144.5</td>\n",
       "      <td>144.5</td>\n",
       "      <td>144.5</td>\n",
       "      <td>144.5</td>\n",
       "      <td>37.2882</td>\n",
       "    </tr>\n",
       "  </tbody>\n",
       "</table>\n",
       "<p>5 rows × 101 columns</p>\n",
       "</div>"
      ],
      "text/plain": [
       "   Swedbank_A-price-0  Swedbank_A-price-1  Swedbank_A-price-2  \\\n",
       "0               144.5               144.5               144.5   \n",
       "1               144.5               144.5               144.5   \n",
       "2               144.5               144.5               144.5   \n",
       "3               144.5               144.5               144.5   \n",
       "4               144.5               144.5               144.5   \n",
       "\n",
       "   Swedbank_A-price-3  Swedbank_A-price-4  Swedbank_A-price-5  \\\n",
       "0               144.5               144.5               144.5   \n",
       "1               144.5               144.5               144.5   \n",
       "2               144.5               144.5               144.5   \n",
       "3               144.5               144.5               144.5   \n",
       "4               144.5               144.5               144.5   \n",
       "\n",
       "   Swedbank_A-price-6  Swedbank_A-price-7  Swedbank_A-price-8  \\\n",
       "0               144.5               144.5               144.5   \n",
       "1               144.5               144.5               144.5   \n",
       "2               144.5               144.5               144.5   \n",
       "3               144.5               144.5               144.5   \n",
       "4               144.5               144.5               144.5   \n",
       "\n",
       "   Swedbank_A-price-9  ...  Swedbank_A-price-91  Swedbank_A-price-92  \\\n",
       "0               144.5  ...                144.5                144.5   \n",
       "1               144.5  ...                144.5                144.5   \n",
       "2               144.5  ...                144.5                144.5   \n",
       "3               144.5  ...                144.5                144.5   \n",
       "4               144.5  ...                144.5                144.5   \n",
       "\n",
       "   Swedbank_A-price-93  Swedbank_A-price-94  Swedbank_A-price-95  \\\n",
       "0                144.5                144.5                144.5   \n",
       "1                144.5                144.5                144.5   \n",
       "2                144.5                144.5                144.5   \n",
       "3                144.5                144.5                144.5   \n",
       "4                144.5                144.5                144.5   \n",
       "\n",
       "   Swedbank_A-price-96  Swedbank_A-price-97  Swedbank_A-price-98  \\\n",
       "0                144.5                144.5                144.5   \n",
       "1                144.5                144.5                144.5   \n",
       "2                144.5                144.5                144.5   \n",
       "3                144.5                144.5                144.5   \n",
       "4                144.5                144.5                144.5   \n",
       "\n",
       "   Swedbank_A-price-99  Swedbank_Arsi  \n",
       "0                144.5        37.2882  \n",
       "1                144.5        37.2882  \n",
       "2                144.5        37.2882  \n",
       "3                144.5        37.2882  \n",
       "4                144.5        37.2882  \n",
       "\n",
       "[5 rows x 101 columns]"
      ]
     },
     "execution_count": 32,
     "metadata": {},
     "output_type": "execute_result"
    }
   ],
   "source": [
    "print(x_data_.shape)\n",
    "x_data = x_data_.join(rsi)\n",
    "print(x_data.shape)\n",
    "x_data.head()"
   ]
  },
  {
   "cell_type": "code",
   "execution_count": 56,
   "metadata": {},
   "outputs": [
    {
     "data": {
      "text/plain": [
       "(3242927,)"
      ]
     },
     "execution_count": 56,
     "metadata": {},
     "output_type": "execute_result"
    }
   ],
   "source": [
    "y_data = y_data[\"15s\"]\n",
    "y_data.shape"
   ]
  },
  {
   "cell_type": "code",
   "execution_count": 57,
   "metadata": {},
   "outputs": [],
   "source": [
    "def splitData(xs, ys, trainRatio):\n",
    "    t = round(len(xs)*trainRatio)\n",
    "    \n",
    "    train_data_x = torch.tensor(xs[:t].values, dtype=torch.float32)\n",
    "    train_data_y = torch.tensor(ys[:t].values, dtype=torch.float32)\n",
    "    \n",
    "    d = round(len(xs[t:])/2)\n",
    "    \n",
    "    dev_data_x = torch.tensor(xs[t:][:d].values, dtype=torch.float32)\n",
    "    dev_data_y = torch.tensor(ys[t:][:d].values, dtype=torch.float32)\n",
    "    \n",
    "    test_data_x = torch.tensor(xs[t:][d:].values, dtype=torch.float32)\n",
    "    test_data_y = torch.tensor(ys[t:][d:].values, dtype=torch.float32)\n",
    "    \n",
    "    #print(test_data_y.shape)\n",
    "    \n",
    "    return TensorDataset(train_data_x, train_data_y), TensorDataset(dev_data_x, dev_data_y), list(zip(test_data_x, test_data_y))"
   ]
  },
  {
   "cell_type": "code",
   "execution_count": 58,
   "metadata": {},
   "outputs": [],
   "source": [
    "train_data, dev_data, test_data = splitData(x_data, y_data, 0.8)"
   ]
  },
  {
   "cell_type": "code",
   "execution_count": 92,
   "metadata": {},
   "outputs": [],
   "source": [
    "input_size=101\n",
    "batch_size=256\n",
    "nbr_epochs=5"
   ]
  },
  {
   "cell_type": "code",
   "execution_count": 93,
   "metadata": {},
   "outputs": [],
   "source": [
    "#compute_unit = \"cuda:0\" if torch.cuda.is_available() else \"cpu\"\n",
    "device = torch.device('cuda:0')\n",
    "dtype = torch.cuda.FloatTensor # Uncomment this to run on GPU\n",
    "#device = torch.device(\"cpu\")\n",
    "#compute_unit = \"cpu\""
   ]
  },
  {
   "cell_type": "code",
   "execution_count": 94,
   "metadata": {},
   "outputs": [],
   "source": [
    "#dtype = torch.FloatTensor\n",
    "dtype = torch.cuda.FloatTensor # Uncomment this to run on GPU"
   ]
  },
  {
   "cell_type": "code",
   "execution_count": 130,
   "metadata": {},
   "outputs": [],
   "source": [
    "class StockModel(nn.Module):\n",
    "    def __init__(self, input_size):\n",
    "        super().__init__()\n",
    "        self.fc1 = nn.Linear(input_size, 150).type(dtype)\n",
    "        nn.init.normal_(self.fc1.weight, mean=0, std=1)\n",
    "        self.fc1.weight = nn.Parameter(self.fc1.weight * math.sqrt(2/input_size))\n",
    "        self.fc2 = nn.Linear(150, 100).type(dtype)\n",
    "        nn.init.normal_(self.fc2.weight, mean=0, std=1)\n",
    "        self.fc2.weight = nn.Parameter(self.fc2.weight * math.sqrt(2/input_size))\n",
    "        self.fc3 = nn.Linear(100, 30).type(dtype)\n",
    "        nn.init.normal_(self.fc3.weight, mean=0, std=1)\n",
    "        self.fc3.weight = nn.Parameter(self.fc3.weight * math.sqrt(2/input_size))\n",
    "        self.fc4 = nn.Linear(30, 10).type(dtype)\n",
    "        nn.init.normal_(self.fc4.weight, mean=0, std=1)\n",
    "        self.fc4.weight = nn.Parameter(self.fc4.weight * math.sqrt(2/input_size))\n",
    "        self.fc5 = nn.Linear(10, 1).type(dtype)\n",
    "    \n",
    "    def forward(self, x):\n",
    "        x = F.relu(self.fc1(x))\n",
    "        x = F.relu(self.fc2(x))\n",
    "        x = F.relu(self.fc3(x))\n",
    "        x = F.relu(self.fc4(x))\n",
    "        return F.relu(self.fc5(x))\n",
    "    \n",
    "model = StockModel(input_size)\n",
    "loss_fn = nn.MSELoss()\n",
    "optimizer = optim.Adam(model.parameters(), lr=0.0001)"
   ]
  },
  {
   "cell_type": "code",
   "execution_count": 131,
   "metadata": {},
   "outputs": [],
   "source": [
    "def evaluate_model(data, model, loss_fn):\n",
    "    losses = []\n",
    "    predictions = []\n",
    "    with torch.no_grad():\n",
    "        for x, y in data:\n",
    "            y = y.squeeze().type(dtype)\n",
    "            x = x.squeeze().type(dtype)\n",
    "            pred = model(x)\n",
    "            loss = loss_fn(pred, y)\n",
    "            losses.append(loss.item())\n",
    "            predictions.extend(pred.tolist())\n",
    "        avg_loss = sum(losses)/len(losses)    \n",
    "    \n",
    "    return avg_loss, predictions"
   ]
  },
  {
   "cell_type": "code",
   "execution_count": 132,
   "metadata": {},
   "outputs": [],
   "source": [
    "def train_model(model, train_data_loader, dev_data_loader, loss_fn, optimizer, epochrange, batchsize):\n",
    "    for epoch in range(epochrange):\n",
    "        losses = []\n",
    "        n_correct = 0\n",
    "        for x, y in train_data_loader:\n",
    "            y = y.type(dtype)\n",
    "            x = x.type(dtype)\n",
    "            pred = model(x)\n",
    "            \n",
    "            loss = loss_fn(pred, y)\n",
    "            \n",
    "            losses.append(loss.item())\n",
    "            loss.backward()\n",
    "            optimizer.step()\n",
    "            optimizer.zero_grad()    \n",
    "\n",
    "        # Compute accuracy and loss in the entire training set\n",
    "        train_avg_loss = sum(losses)/len(losses)    \n",
    "        \n",
    "        dev_avg_loss,_ = evaluate_model(dev_data_loader, model, loss_fn)\n",
    "        \n",
    "        # Display metrics\n",
    "        display_str = 'Epoch {} '\n",
    "        display_str += '\\tLoss: {:.3f} '\n",
    "        display_str += '\\tLoss (val): {:.3f}'\n",
    "        print(display_str.format(epoch, train_avg_loss, dev_avg_loss))"
   ]
  },
  {
   "cell_type": "code",
   "execution_count": 133,
   "metadata": {},
   "outputs": [],
   "source": [
    "train_data_loader = DataLoader(train_data, batch_size=batch_size)\n",
    "dev_data_loader = DataLoader(dev_data, batch_size=batch_size)"
   ]
  },
  {
   "cell_type": "code",
   "execution_count": 134,
   "metadata": {
    "scrolled": true
   },
   "outputs": [
    {
     "name": "stdout",
     "output_type": "stream",
     "text": [
      "Epoch 0 \tLoss: 14.044 \tLoss (val): 0.062\n",
      "Epoch 1 \tLoss: 0.154 \tLoss (val): 0.127\n",
      "Epoch 2 \tLoss: 0.170 \tLoss (val): 0.180\n",
      "Epoch 3 \tLoss: 0.185 \tLoss (val): 0.227\n",
      "Epoch 4 \tLoss: 0.183 \tLoss (val): 0.206\n",
      "Epoch 5 \tLoss: 0.158 \tLoss (val): 0.173\n",
      "Epoch 6 \tLoss: 0.142 \tLoss (val): 0.213\n",
      "Epoch 7 \tLoss: 0.125 \tLoss (val): 0.190\n",
      "Epoch 8 \tLoss: 0.106 \tLoss (val): 0.173\n",
      "Epoch 9 \tLoss: 0.105 \tLoss (val): 0.117\n",
      "Epoch 10 \tLoss: 0.096 \tLoss (val): 0.117\n",
      "Epoch 11 \tLoss: 0.091 \tLoss (val): 0.073\n",
      "Epoch 12 \tLoss: 0.088 \tLoss (val): 0.056\n",
      "Epoch 13 \tLoss: 0.094 \tLoss (val): 0.155\n",
      "Epoch 14 \tLoss: 0.119 \tLoss (val): 0.244\n",
      "Epoch 15 \tLoss: 0.165 \tLoss (val): 0.229\n",
      "Epoch 16 \tLoss: 0.191 \tLoss (val): 0.222\n",
      "Epoch 17 \tLoss: 0.182 \tLoss (val): 0.256\n",
      "Epoch 18 \tLoss: 0.185 \tLoss (val): 0.217\n",
      "Epoch 19 \tLoss: 0.174 \tLoss (val): 0.208\n"
     ]
    }
   ],
   "source": [
    "model = model.to(device)\n",
    "train_model(model, train_data_loader, dev_data_loader, loss_fn, optimizer, nbr_epochs, batch_size)"
   ]
  },
  {
   "cell_type": "code",
   "execution_count": 135,
   "metadata": {},
   "outputs": [],
   "source": [
    "_, preds = evaluate_model(test_data, model, loss_fn)"
   ]
  },
  {
   "cell_type": "code",
   "execution_count": 136,
   "metadata": {
    "scrolled": true
   },
   "outputs": [
    {
     "name": "stdout",
     "output_type": "stream",
     "text": [
      "152.86058044433594\n"
     ]
    },
    {
     "data": {
      "image/png": "[encoded data removed]",
      "text/plain": [
       "<Figure size 432x288 with 1 Axes>"
      ]
     },
     "metadata": {
      "needs_background": "light"
     },
     "output_type": "display_data"
    }
   ],
   "source": [
    "y_data_borpi = list(zip(*test_data))\n",
    "print(preds[0])\n",
    "items_plot = [y_data_borpi[1][t] for t in range(len(y_data_borpi[1]))]\n",
    "plt.plot(list(range(len(preds))), preds)\n",
    "plt.plot(list(range(len(items_plot))), items_plot)\n",
    "axes = plt.gca()\n",
    "axes.set_ylim([145,170])\n",
    "axes.set_xlim([320000,325000])\n",
    "plt.show()"
   ]
  },
  {
   "cell_type": "code",
   "execution_count": null,
   "metadata": {},
   "outputs": [],
   "source": []
  },
  {
   "cell_type": "code",
   "execution_count": null,
   "metadata": {},
   "outputs": [],
   "source": []
  }
 ],
 "metadata": {
  "kernelspec": {
   "display_name": "Python 3",
   "language": "python",
   "name": "python3"
  },
  "language_info": {
   "codemirror_mode": {
    "name": "ipython",
    "version": 3
   },
   "file_extension": ".py",
   "mimetype": "text/x-python",
   "name": "python",
   "nbconvert_exporter": "python",
   "pygments_lexer": "ipython3",
   "version": "3.7.9"
  }
 },
 "nbformat": 4,
 "nbformat_minor": 4
}
