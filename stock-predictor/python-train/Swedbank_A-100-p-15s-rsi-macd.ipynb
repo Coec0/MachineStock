{
 "cells": [
  {
   "cell_type": "code",
   "execution_count": 10,
   "metadata": {},
   "outputs": [],
   "source": [
    "import torch\n",
    "from torch import nn\n",
    "from torch.utils.data import TensorDataset\n",
    "from torch.utils.data import DataLoader\n",
    "import torch.nn.functional as F\n",
    "from torch import optim\n",
    "import numpy as np\n",
    "import pandas as pd\n",
    "import datetime\n",
    "import matplotlib.pyplot as plt\n",
    "import math"
   ]
  },
  {
   "cell_type": "code",
   "execution_count": 11,
   "metadata": {},
   "outputs": [],
   "source": [
    "x_data_ = pd.read_csv(\"../python-docker/Swedbank_A/x_Swedbank_A_100_p.csv\", sep=\";\", usecols = [i for i in range(100)])"
   ]
  },
  {
   "cell_type": "code",
   "execution_count": 12,
   "metadata": {},
   "outputs": [],
   "source": [
    "rsi = pd.read_csv(\"../python-docker/Swedbank_A/x_Swedbank_A_rsi.csv\", sep=\";\", usecols=[\"Swedbank_Arsi\"])"
   ]
  },
  {
   "cell_type": "code",
   "execution_count": 13,
   "metadata": {},
   "outputs": [],
   "source": [
    "macd = pd.read_csv(\"../python-docker/Swedbank_A/x_Swedbank_A_macd.csv\", sep=\";\", usecols=[\"Swedbank_Amacd\"])"
   ]
  },
  {
   "cell_type": "code",
   "execution_count": 14,
   "metadata": {},
   "outputs": [],
   "source": [
    "y_data = pd.read_csv(\"../python-docker/Swedbank_A/y_Swedbank_A_100.csv\", sep=\";\")"
   ]
  },
  {
   "cell_type": "code",
   "execution_count": 15,
   "metadata": {},
   "outputs": [
    {
     "data": {
      "text/html": [
       "<div>\n",
       "<style scoped>\n",
       "    .dataframe tbody tr th:only-of-type {\n",
       "        vertical-align: middle;\n",
       "    }\n",
       "\n",
       "    .dataframe tbody tr th {\n",
       "        vertical-align: top;\n",
       "    }\n",
       "\n",
       "    .dataframe thead th {\n",
       "        text-align: right;\n",
       "    }\n",
       "</style>\n",
       "<table border=\"1\" class=\"dataframe\">\n",
       "  <thead>\n",
       "    <tr style=\"text-align: right;\">\n",
       "      <th></th>\n",
       "      <th>15s</th>\n",
       "      <th>15ud</th>\n",
       "      <th>30s</th>\n",
       "      <th>30ud</th>\n",
       "      <th>60s</th>\n",
       "      <th>60ud</th>\n",
       "      <th>300s</th>\n",
       "      <th>300ud</th>\n",
       "      <th>600s</th>\n",
       "      <th>600ud</th>\n",
       "      <th>ts</th>\n",
       "    </tr>\n",
       "  </thead>\n",
       "  <tbody>\n",
       "    <tr>\n",
       "      <th>0</th>\n",
       "      <td>144.46</td>\n",
       "      <td>0</td>\n",
       "      <td>144.32</td>\n",
       "      <td>0</td>\n",
       "      <td>144.20</td>\n",
       "      <td>0</td>\n",
       "      <td>144.10</td>\n",
       "      <td>0</td>\n",
       "      <td>144.32</td>\n",
       "      <td>0</td>\n",
       "      <td>1598425200</td>\n",
       "    </tr>\n",
       "    <tr>\n",
       "      <th>1</th>\n",
       "      <td>144.46</td>\n",
       "      <td>0</td>\n",
       "      <td>144.32</td>\n",
       "      <td>0</td>\n",
       "      <td>144.20</td>\n",
       "      <td>0</td>\n",
       "      <td>144.22</td>\n",
       "      <td>0</td>\n",
       "      <td>144.32</td>\n",
       "      <td>0</td>\n",
       "      <td>1598425201</td>\n",
       "    </tr>\n",
       "    <tr>\n",
       "      <th>2</th>\n",
       "      <td>144.46</td>\n",
       "      <td>0</td>\n",
       "      <td>144.32</td>\n",
       "      <td>0</td>\n",
       "      <td>144.20</td>\n",
       "      <td>0</td>\n",
       "      <td>144.26</td>\n",
       "      <td>0</td>\n",
       "      <td>144.32</td>\n",
       "      <td>0</td>\n",
       "      <td>1598425202</td>\n",
       "    </tr>\n",
       "    <tr>\n",
       "      <th>3</th>\n",
       "      <td>144.46</td>\n",
       "      <td>0</td>\n",
       "      <td>144.32</td>\n",
       "      <td>0</td>\n",
       "      <td>144.12</td>\n",
       "      <td>0</td>\n",
       "      <td>144.26</td>\n",
       "      <td>0</td>\n",
       "      <td>144.32</td>\n",
       "      <td>0</td>\n",
       "      <td>1598425203</td>\n",
       "    </tr>\n",
       "    <tr>\n",
       "      <th>4</th>\n",
       "      <td>144.46</td>\n",
       "      <td>0</td>\n",
       "      <td>144.32</td>\n",
       "      <td>0</td>\n",
       "      <td>144.12</td>\n",
       "      <td>0</td>\n",
       "      <td>144.26</td>\n",
       "      <td>0</td>\n",
       "      <td>144.32</td>\n",
       "      <td>0</td>\n",
       "      <td>1598425204</td>\n",
       "    </tr>\n",
       "  </tbody>\n",
       "</table>\n",
       "</div>"
      ],
      "text/plain": [
       "      15s  15ud     30s  30ud     60s  60ud    300s  300ud    600s  600ud  \\\n",
       "0  144.46     0  144.32     0  144.20     0  144.10      0  144.32      0   \n",
       "1  144.46     0  144.32     0  144.20     0  144.22      0  144.32      0   \n",
       "2  144.46     0  144.32     0  144.20     0  144.26      0  144.32      0   \n",
       "3  144.46     0  144.32     0  144.12     0  144.26      0  144.32      0   \n",
       "4  144.46     0  144.32     0  144.12     0  144.26      0  144.32      0   \n",
       "\n",
       "           ts  \n",
       "0  1598425200  \n",
       "1  1598425201  \n",
       "2  1598425202  \n",
       "3  1598425203  \n",
       "4  1598425204  "
      ]
     },
     "execution_count": 15,
     "metadata": {},
     "output_type": "execute_result"
    }
   ],
   "source": [
    "y_data.head()"
   ]
  },
  {
   "cell_type": "code",
   "execution_count": 16,
   "metadata": {},
   "outputs": [
    {
     "name": "stdout",
     "output_type": "stream",
     "text": [
      "(3242927, 100)\n",
      "(3242927, 102)\n"
     ]
    },
    {
     "data": {
      "text/html": [
       "<div>\n",
       "<style scoped>\n",
       "    .dataframe tbody tr th:only-of-type {\n",
       "        vertical-align: middle;\n",
       "    }\n",
       "\n",
       "    .dataframe tbody tr th {\n",
       "        vertical-align: top;\n",
       "    }\n",
       "\n",
       "    .dataframe thead th {\n",
       "        text-align: right;\n",
       "    }\n",
       "</style>\n",
       "<table border=\"1\" class=\"dataframe\">\n",
       "  <thead>\n",
       "    <tr style=\"text-align: right;\">\n",
       "      <th></th>\n",
       "      <th>Swedbank_A-price-0</th>\n",
       "      <th>Swedbank_A-price-1</th>\n",
       "      <th>Swedbank_A-price-2</th>\n",
       "      <th>Swedbank_A-price-3</th>\n",
       "      <th>Swedbank_A-price-4</th>\n",
       "      <th>Swedbank_A-price-5</th>\n",
       "      <th>Swedbank_A-price-6</th>\n",
       "      <th>Swedbank_A-price-7</th>\n",
       "      <th>Swedbank_A-price-8</th>\n",
       "      <th>Swedbank_A-price-9</th>\n",
       "      <th>...</th>\n",
       "      <th>Swedbank_A-price-92</th>\n",
       "      <th>Swedbank_A-price-93</th>\n",
       "      <th>Swedbank_A-price-94</th>\n",
       "      <th>Swedbank_A-price-95</th>\n",
       "      <th>Swedbank_A-price-96</th>\n",
       "      <th>Swedbank_A-price-97</th>\n",
       "      <th>Swedbank_A-price-98</th>\n",
       "      <th>Swedbank_A-price-99</th>\n",
       "      <th>Swedbank_Arsi</th>\n",
       "      <th>Swedbank_Amacd</th>\n",
       "    </tr>\n",
       "  </thead>\n",
       "  <tbody>\n",
       "    <tr>\n",
       "      <th>0</th>\n",
       "      <td>144.5</td>\n",
       "      <td>144.5</td>\n",
       "      <td>144.5</td>\n",
       "      <td>144.5</td>\n",
       "      <td>144.5</td>\n",
       "      <td>144.5</td>\n",
       "      <td>144.5</td>\n",
       "      <td>144.5</td>\n",
       "      <td>144.5</td>\n",
       "      <td>144.5</td>\n",
       "      <td>...</td>\n",
       "      <td>144.5</td>\n",
       "      <td>144.5</td>\n",
       "      <td>144.5</td>\n",
       "      <td>144.5</td>\n",
       "      <td>144.5</td>\n",
       "      <td>144.5</td>\n",
       "      <td>144.5</td>\n",
       "      <td>144.5</td>\n",
       "      <td>37.2882</td>\n",
       "      <td>0.0</td>\n",
       "    </tr>\n",
       "    <tr>\n",
       "      <th>1</th>\n",
       "      <td>144.5</td>\n",
       "      <td>144.5</td>\n",
       "      <td>144.5</td>\n",
       "      <td>144.5</td>\n",
       "      <td>144.5</td>\n",
       "      <td>144.5</td>\n",
       "      <td>144.5</td>\n",
       "      <td>144.5</td>\n",
       "      <td>144.5</td>\n",
       "      <td>144.5</td>\n",
       "      <td>...</td>\n",
       "      <td>144.5</td>\n",
       "      <td>144.5</td>\n",
       "      <td>144.5</td>\n",
       "      <td>144.5</td>\n",
       "      <td>144.5</td>\n",
       "      <td>144.5</td>\n",
       "      <td>144.5</td>\n",
       "      <td>144.5</td>\n",
       "      <td>37.2882</td>\n",
       "      <td>0.0</td>\n",
       "    </tr>\n",
       "    <tr>\n",
       "      <th>2</th>\n",
       "      <td>144.5</td>\n",
       "      <td>144.5</td>\n",
       "      <td>144.5</td>\n",
       "      <td>144.5</td>\n",
       "      <td>144.5</td>\n",
       "      <td>144.5</td>\n",
       "      <td>144.5</td>\n",
       "      <td>144.5</td>\n",
       "      <td>144.5</td>\n",
       "      <td>144.5</td>\n",
       "      <td>...</td>\n",
       "      <td>144.5</td>\n",
       "      <td>144.5</td>\n",
       "      <td>144.5</td>\n",
       "      <td>144.5</td>\n",
       "      <td>144.5</td>\n",
       "      <td>144.5</td>\n",
       "      <td>144.5</td>\n",
       "      <td>144.5</td>\n",
       "      <td>37.2882</td>\n",
       "      <td>0.0</td>\n",
       "    </tr>\n",
       "    <tr>\n",
       "      <th>3</th>\n",
       "      <td>144.5</td>\n",
       "      <td>144.5</td>\n",
       "      <td>144.5</td>\n",
       "      <td>144.5</td>\n",
       "      <td>144.5</td>\n",
       "      <td>144.5</td>\n",
       "      <td>144.5</td>\n",
       "      <td>144.5</td>\n",
       "      <td>144.5</td>\n",
       "      <td>144.5</td>\n",
       "      <td>...</td>\n",
       "      <td>144.5</td>\n",
       "      <td>144.5</td>\n",
       "      <td>144.5</td>\n",
       "      <td>144.5</td>\n",
       "      <td>144.5</td>\n",
       "      <td>144.5</td>\n",
       "      <td>144.5</td>\n",
       "      <td>144.5</td>\n",
       "      <td>37.2882</td>\n",
       "      <td>0.0</td>\n",
       "    </tr>\n",
       "    <tr>\n",
       "      <th>4</th>\n",
       "      <td>144.5</td>\n",
       "      <td>144.5</td>\n",
       "      <td>144.5</td>\n",
       "      <td>144.5</td>\n",
       "      <td>144.5</td>\n",
       "      <td>144.5</td>\n",
       "      <td>144.5</td>\n",
       "      <td>144.5</td>\n",
       "      <td>144.5</td>\n",
       "      <td>144.5</td>\n",
       "      <td>...</td>\n",
       "      <td>144.5</td>\n",
       "      <td>144.5</td>\n",
       "      <td>144.5</td>\n",
       "      <td>144.5</td>\n",
       "      <td>144.5</td>\n",
       "      <td>144.5</td>\n",
       "      <td>144.5</td>\n",
       "      <td>144.5</td>\n",
       "      <td>37.2882</td>\n",
       "      <td>0.0</td>\n",
       "    </tr>\n",
       "  </tbody>\n",
       "</table>\n",
       "<p>5 rows × 102 columns</p>\n",
       "</div>"
      ],
      "text/plain": [
       "   Swedbank_A-price-0  Swedbank_A-price-1  Swedbank_A-price-2  \\\n",
       "0               144.5               144.5               144.5   \n",
       "1               144.5               144.5               144.5   \n",
       "2               144.5               144.5               144.5   \n",
       "3               144.5               144.5               144.5   \n",
       "4               144.5               144.5               144.5   \n",
       "\n",
       "   Swedbank_A-price-3  Swedbank_A-price-4  Swedbank_A-price-5  \\\n",
       "0               144.5               144.5               144.5   \n",
       "1               144.5               144.5               144.5   \n",
       "2               144.5               144.5               144.5   \n",
       "3               144.5               144.5               144.5   \n",
       "4               144.5               144.5               144.5   \n",
       "\n",
       "   Swedbank_A-price-6  Swedbank_A-price-7  Swedbank_A-price-8  \\\n",
       "0               144.5               144.5               144.5   \n",
       "1               144.5               144.5               144.5   \n",
       "2               144.5               144.5               144.5   \n",
       "3               144.5               144.5               144.5   \n",
       "4               144.5               144.5               144.5   \n",
       "\n",
       "   Swedbank_A-price-9  ...  Swedbank_A-price-92  Swedbank_A-price-93  \\\n",
       "0               144.5  ...                144.5                144.5   \n",
       "1               144.5  ...                144.5                144.5   \n",
       "2               144.5  ...                144.5                144.5   \n",
       "3               144.5  ...                144.5                144.5   \n",
       "4               144.5  ...                144.5                144.5   \n",
       "\n",
       "   Swedbank_A-price-94  Swedbank_A-price-95  Swedbank_A-price-96  \\\n",
       "0                144.5                144.5                144.5   \n",
       "1                144.5                144.5                144.5   \n",
       "2                144.5                144.5                144.5   \n",
       "3                144.5                144.5                144.5   \n",
       "4                144.5                144.5                144.5   \n",
       "\n",
       "   Swedbank_A-price-97  Swedbank_A-price-98  Swedbank_A-price-99  \\\n",
       "0                144.5                144.5                144.5   \n",
       "1                144.5                144.5                144.5   \n",
       "2                144.5                144.5                144.5   \n",
       "3                144.5                144.5                144.5   \n",
       "4                144.5                144.5                144.5   \n",
       "\n",
       "   Swedbank_Arsi  Swedbank_Amacd  \n",
       "0        37.2882             0.0  \n",
       "1        37.2882             0.0  \n",
       "2        37.2882             0.0  \n",
       "3        37.2882             0.0  \n",
       "4        37.2882             0.0  \n",
       "\n",
       "[5 rows x 102 columns]"
      ]
     },
     "execution_count": 16,
     "metadata": {},
     "output_type": "execute_result"
    }
   ],
   "source": [
    "print(x_data_.shape)\n",
    "x_data__ = x_data_.join(rsi)\n",
    "x_data = x_data__.join(macd)\n",
    "print(x_data.shape)\n",
    "x_data.head()"
   ]
  },
  {
   "cell_type": "code",
   "execution_count": 18,
   "metadata": {},
   "outputs": [
    {
     "ename": "KeyError",
     "evalue": "'15s'",
     "output_type": "error",
     "traceback": [
      "\u001b[1;31m---------------------------------------------------------------------------\u001b[0m",
      "\u001b[1;31mKeyError\u001b[0m                                  Traceback (most recent call last)",
      "\u001b[1;32m<ipython-input-18-b802c8751471>\u001b[0m in \u001b[0;36m<module>\u001b[1;34m\u001b[0m\n\u001b[1;32m----> 1\u001b[1;33m \u001b[0my_data\u001b[0m \u001b[1;33m=\u001b[0m \u001b[0my_data\u001b[0m\u001b[1;33m[\u001b[0m\u001b[1;34m\"15s\"\u001b[0m\u001b[1;33m]\u001b[0m\u001b[1;33m\u001b[0m\u001b[1;33m\u001b[0m\u001b[0m\n\u001b[0m\u001b[0;32m      2\u001b[0m \u001b[0my_data\u001b[0m\u001b[1;33m.\u001b[0m\u001b[0mshape\u001b[0m\u001b[1;33m\u001b[0m\u001b[1;33m\u001b[0m\u001b[0m\n",
      "\u001b[1;32m~\\.conda\\envs\\titantesttest\\lib\\site-packages\\pandas\\core\\series.py\u001b[0m in \u001b[0;36m__getitem__\u001b[1;34m(self, key)\u001b[0m\n\u001b[0;32m    849\u001b[0m \u001b[1;33m\u001b[0m\u001b[0m\n\u001b[0;32m    850\u001b[0m         \u001b[1;32melif\u001b[0m \u001b[0mkey_is_scalar\u001b[0m\u001b[1;33m:\u001b[0m\u001b[1;33m\u001b[0m\u001b[1;33m\u001b[0m\u001b[0m\n\u001b[1;32m--> 851\u001b[1;33m             \u001b[1;32mreturn\u001b[0m \u001b[0mself\u001b[0m\u001b[1;33m.\u001b[0m\u001b[0m_get_value\u001b[0m\u001b[1;33m(\u001b[0m\u001b[0mkey\u001b[0m\u001b[1;33m)\u001b[0m\u001b[1;33m\u001b[0m\u001b[1;33m\u001b[0m\u001b[0m\n\u001b[0m\u001b[0;32m    852\u001b[0m \u001b[1;33m\u001b[0m\u001b[0m\n\u001b[0;32m    853\u001b[0m         \u001b[1;32mif\u001b[0m \u001b[0mis_hashable\u001b[0m\u001b[1;33m(\u001b[0m\u001b[0mkey\u001b[0m\u001b[1;33m)\u001b[0m\u001b[1;33m:\u001b[0m\u001b[1;33m\u001b[0m\u001b[1;33m\u001b[0m\u001b[0m\n",
      "\u001b[1;32m~\\.conda\\envs\\titantesttest\\lib\\site-packages\\pandas\\core\\series.py\u001b[0m in \u001b[0;36m_get_value\u001b[1;34m(self, label, takeable)\u001b[0m\n\u001b[0;32m    957\u001b[0m \u001b[1;33m\u001b[0m\u001b[0m\n\u001b[0;32m    958\u001b[0m         \u001b[1;31m# Similar to Index.get_value, but we do not fall back to positional\u001b[0m\u001b[1;33m\u001b[0m\u001b[1;33m\u001b[0m\u001b[1;33m\u001b[0m\u001b[0m\n\u001b[1;32m--> 959\u001b[1;33m         \u001b[0mloc\u001b[0m \u001b[1;33m=\u001b[0m \u001b[0mself\u001b[0m\u001b[1;33m.\u001b[0m\u001b[0mindex\u001b[0m\u001b[1;33m.\u001b[0m\u001b[0mget_loc\u001b[0m\u001b[1;33m(\u001b[0m\u001b[0mlabel\u001b[0m\u001b[1;33m)\u001b[0m\u001b[1;33m\u001b[0m\u001b[1;33m\u001b[0m\u001b[0m\n\u001b[0m\u001b[0;32m    960\u001b[0m         \u001b[1;32mreturn\u001b[0m \u001b[0mself\u001b[0m\u001b[1;33m.\u001b[0m\u001b[0mindex\u001b[0m\u001b[1;33m.\u001b[0m\u001b[0m_get_values_for_loc\u001b[0m\u001b[1;33m(\u001b[0m\u001b[0mself\u001b[0m\u001b[1;33m,\u001b[0m \u001b[0mloc\u001b[0m\u001b[1;33m,\u001b[0m \u001b[0mlabel\u001b[0m\u001b[1;33m)\u001b[0m\u001b[1;33m\u001b[0m\u001b[1;33m\u001b[0m\u001b[0m\n\u001b[0;32m    961\u001b[0m \u001b[1;33m\u001b[0m\u001b[0m\n",
      "\u001b[1;32m~\\.conda\\envs\\titantesttest\\lib\\site-packages\\pandas\\core\\indexes\\range.py\u001b[0m in \u001b[0;36mget_loc\u001b[1;34m(self, key, method, tolerance)\u001b[0m\n\u001b[0;32m    352\u001b[0m                 \u001b[1;32mexcept\u001b[0m \u001b[0mValueError\u001b[0m \u001b[1;32mas\u001b[0m \u001b[0merr\u001b[0m\u001b[1;33m:\u001b[0m\u001b[1;33m\u001b[0m\u001b[1;33m\u001b[0m\u001b[0m\n\u001b[0;32m    353\u001b[0m                     \u001b[1;32mraise\u001b[0m \u001b[0mKeyError\u001b[0m\u001b[1;33m(\u001b[0m\u001b[0mkey\u001b[0m\u001b[1;33m)\u001b[0m \u001b[1;32mfrom\u001b[0m \u001b[0merr\u001b[0m\u001b[1;33m\u001b[0m\u001b[1;33m\u001b[0m\u001b[0m\n\u001b[1;32m--> 354\u001b[1;33m             \u001b[1;32mraise\u001b[0m \u001b[0mKeyError\u001b[0m\u001b[1;33m(\u001b[0m\u001b[0mkey\u001b[0m\u001b[1;33m)\u001b[0m\u001b[1;33m\u001b[0m\u001b[1;33m\u001b[0m\u001b[0m\n\u001b[0m\u001b[0;32m    355\u001b[0m         \u001b[1;32mreturn\u001b[0m \u001b[0msuper\u001b[0m\u001b[1;33m(\u001b[0m\u001b[1;33m)\u001b[0m\u001b[1;33m.\u001b[0m\u001b[0mget_loc\u001b[0m\u001b[1;33m(\u001b[0m\u001b[0mkey\u001b[0m\u001b[1;33m,\u001b[0m \u001b[0mmethod\u001b[0m\u001b[1;33m=\u001b[0m\u001b[0mmethod\u001b[0m\u001b[1;33m,\u001b[0m \u001b[0mtolerance\u001b[0m\u001b[1;33m=\u001b[0m\u001b[0mtolerance\u001b[0m\u001b[1;33m)\u001b[0m\u001b[1;33m\u001b[0m\u001b[1;33m\u001b[0m\u001b[0m\n\u001b[0;32m    356\u001b[0m \u001b[1;33m\u001b[0m\u001b[0m\n",
      "\u001b[1;31mKeyError\u001b[0m: '15s'"
     ]
    }
   ],
   "source": [
    "y_data = y_data[\"15s\"]\n",
    "y_data.shape"
   ]
  },
  {
   "cell_type": "code",
   "execution_count": 21,
   "metadata": {},
   "outputs": [],
   "source": [
    "def splitData(xs, ys, trainRatio):\n",
    "    t = round(len(xs)*trainRatio)\n",
    "    \n",
    "    train_data_x = torch.tensor(xs[:t].values, dtype=torch.float32)\n",
    "    train_data_y = torch.tensor(ys[:t].values, dtype=torch.float32)\n",
    "    \n",
    "    d = round(len(xs[t:])/2)\n",
    "    \n",
    "    dev_data_x = torch.tensor(xs[t:][:d].values, dtype=torch.float32)\n",
    "    dev_data_y = torch.tensor(ys[t:][:d].values, dtype=torch.float32)\n",
    "    \n",
    "    test_data_x = torch.tensor(xs[t:][d:].values, dtype=torch.float32)\n",
    "    test_data_y = torch.tensor(ys[t:][d:].values, dtype=torch.float32)\n",
    "    \n",
    "    #print(test_data_y.shape)\n",
    "    \n",
    "    return TensorDataset(train_data_x, train_data_y), TensorDataset(dev_data_x, dev_data_y), list(zip(test_data_x, test_data_y))"
   ]
  },
  {
   "cell_type": "code",
   "execution_count": 22,
   "metadata": {},
   "outputs": [],
   "source": [
    "train_data, dev_data, test_data = splitData(x_data, y_data, 0.8)"
   ]
  },
  {
   "cell_type": "code",
   "execution_count": 23,
   "metadata": {},
   "outputs": [],
   "source": [
    "input_size=102\n",
    "batch_size=256\n",
    "nbr_epochs=7"
   ]
  },
  {
   "cell_type": "code",
   "execution_count": 24,
   "metadata": {},
   "outputs": [],
   "source": [
    "#compute_unit = \"cuda:0\" if torch.cuda.is_available() else \"cpu\"\n",
    "device = torch.device('cuda:0')\n",
    "#device = torch.device(\"cpu\")\n",
    "#compute_unit = \"cpu\""
   ]
  },
  {
   "cell_type": "code",
   "execution_count": 25,
   "metadata": {},
   "outputs": [],
   "source": [
    "#dtype = torch.FloatTensor\n",
    "dtype = torch.cuda.FloatTensor # Uncomment this to run on GPU"
   ]
  },
  {
   "cell_type": "code",
   "execution_count": 26,
   "metadata": {},
   "outputs": [],
   "source": [
    "class StockModel(nn.Module):\n",
    "    def __init__(self, input_size):\n",
    "        super().__init__()\n",
    "        self.fc1 = nn.Linear(input_size, 150).type(dtype)\n",
    "        nn.init.normal_(self.fc1.weight, mean=0, std=1)\n",
    "        self.fc1.weight = nn.Parameter(self.fc1.weight * math.sqrt(2/input_size))\n",
    "        self.fc2 = nn.Linear(150, 100).type(dtype)\n",
    "        nn.init.normal_(self.fc2.weight, mean=0, std=1)\n",
    "        self.fc2.weight = nn.Parameter(self.fc2.weight * math.sqrt(2/input_size))\n",
    "        self.fc3 = nn.Linear(100, 30).type(dtype)\n",
    "        nn.init.normal_(self.fc3.weight, mean=0, std=1)\n",
    "        self.fc3.weight = nn.Parameter(self.fc3.weight * math.sqrt(2/input_size))\n",
    "        self.fc4 = nn.Linear(30, 10).type(dtype)\n",
    "        nn.init.normal_(self.fc4.weight, mean=0, std=1)\n",
    "        self.fc4.weight = nn.Parameter(self.fc4.weight * math.sqrt(2/input_size))\n",
    "        self.fc5 = nn.Linear(10, 1).type(dtype)\n",
    "    \n",
    "    def forward(self, x):\n",
    "        x = F.relu(self.fc1(x))\n",
    "        x = F.relu(self.fc2(x))\n",
    "        x = F.relu(self.fc3(x))\n",
    "        x = F.relu(self.fc4(x))\n",
    "        return F.relu(self.fc5(x))\n",
    "    \n",
    "model = StockModel(input_size)\n",
    "loss_fn = nn.MSELoss()\n",
    "optimizer = optim.Adam(model.parameters(), lr=0.0001)"
   ]
  },
  {
   "cell_type": "code",
   "execution_count": 27,
   "metadata": {},
   "outputs": [],
   "source": [
    "def evaluate_model(data, model, loss_fn):\n",
    "    losses = []\n",
    "    predictions = []\n",
    "    with torch.no_grad():\n",
    "        for x, y in data:\n",
    "            y = y.squeeze().type(dtype)\n",
    "            x = x.squeeze().type(dtype)\n",
    "            pred = model(x)\n",
    "            loss = loss_fn(pred, y)\n",
    "            losses.append(loss.item())\n",
    "            predictions.extend(pred.tolist())\n",
    "        avg_loss = sum(losses)/len(losses)    \n",
    "    \n",
    "    return avg_loss, predictions"
   ]
  },
  {
   "cell_type": "code",
   "execution_count": 28,
   "metadata": {},
   "outputs": [],
   "source": [
    "def train_model(model, train_data_loader, dev_data_loader, loss_fn, optimizer, epochrange, batchsize):\n",
    "    for epoch in range(epochrange):\n",
    "        losses = []\n",
    "        n_correct = 0\n",
    "        for x, y in train_data_loader:\n",
    "            y = y.type(dtype)\n",
    "            x = x.type(dtype)\n",
    "            pred = model(x)\n",
    "            \n",
    "            loss = loss_fn(pred, y)\n",
    "            \n",
    "            losses.append(loss.item())\n",
    "            loss.backward()\n",
    "            optimizer.step()\n",
    "            optimizer.zero_grad()    \n",
    "\n",
    "        # Compute accuracy and loss in the entire training set\n",
    "        train_avg_loss = sum(losses)/len(losses)    \n",
    "        \n",
    "        dev_avg_loss,_ = evaluate_model(dev_data_loader, model, loss_fn)\n",
    "        \n",
    "        # Display metrics\n",
    "        display_str = 'Epoch {} '\n",
    "        display_str += '\\tLoss: {:.3f} '\n",
    "        display_str += '\\tLoss (val): {:.3f}'\n",
    "        print(display_str.format(epoch, train_avg_loss, dev_avg_loss))"
   ]
  },
  {
   "cell_type": "code",
   "execution_count": 29,
   "metadata": {},
   "outputs": [],
   "source": [
    "train_data_loader = DataLoader(train_data, batch_size=batch_size)\n",
    "dev_data_loader = DataLoader(dev_data, batch_size=batch_size)"
   ]
  },
  {
   "cell_type": "code",
   "execution_count": 30,
   "metadata": {
    "scrolled": true
   },
   "outputs": [
    {
     "name": "stderr",
     "output_type": "stream",
     "text": [
      "C:\\Users\\kajen\\.conda\\envs\\titantesttest\\lib\\site-packages\\torch\\nn\\modules\\loss.py:431: UserWarning: Using a target size (torch.Size([256])) that is different to the input size (torch.Size([256, 1])). This will likely lead to incorrect results due to broadcasting. Please ensure they have the same size.\n",
      "  return F.mse_loss(input, target, reduction=self.reduction)\n",
      "C:\\Users\\kajen\\.conda\\envs\\titantesttest\\lib\\site-packages\\torch\\nn\\modules\\loss.py:431: UserWarning: Using a target size (torch.Size([38])) that is different to the input size (torch.Size([38, 1])). This will likely lead to incorrect results due to broadcasting. Please ensure they have the same size.\n",
      "  return F.mse_loss(input, target, reduction=self.reduction)\n",
      "C:\\Users\\kajen\\.conda\\envs\\titantesttest\\lib\\site-packages\\torch\\nn\\modules\\loss.py:431: UserWarning: Using a target size (torch.Size([196])) that is different to the input size (torch.Size([196, 1])). This will likely lead to incorrect results due to broadcasting. Please ensure they have the same size.\n",
      "  return F.mse_loss(input, target, reduction=self.reduction)\n"
     ]
    },
    {
     "name": "stdout",
     "output_type": "stream",
     "text": [
      "Epoch 0 \tLoss: 6.750 \tLoss (val): 0.044\n",
      "Epoch 1 \tLoss: 0.117 \tLoss (val): 0.125\n",
      "Epoch 2 \tLoss: 0.108 \tLoss (val): 0.194\n",
      "Epoch 3 \tLoss: 0.179 \tLoss (val): 0.127\n",
      "Epoch 4 \tLoss: 0.163 \tLoss (val): 0.158\n",
      "Epoch 5 \tLoss: 0.131 \tLoss (val): 0.037\n",
      "Epoch 6 \tLoss: 0.106 \tLoss (val): 0.090\n"
     ]
    }
   ],
   "source": [
    "model = model.to(device)\n",
    "train_model(model, train_data_loader, dev_data_loader, loss_fn, optimizer, nbr_epochs, batch_size)"
   ]
  },
  {
   "cell_type": "code",
   "execution_count": 31,
   "metadata": {},
   "outputs": [
    {
     "name": "stderr",
     "output_type": "stream",
     "text": [
      "C:\\Users\\kajen\\.conda\\envs\\titantesttest\\lib\\site-packages\\torch\\nn\\modules\\loss.py:431: UserWarning: Using a target size (torch.Size([])) that is different to the input size (torch.Size([1])). This will likely lead to incorrect results due to broadcasting. Please ensure they have the same size.\n",
      "  return F.mse_loss(input, target, reduction=self.reduction)\n"
     ]
    }
   ],
   "source": [
    "_, preds = evaluate_model(test_data, model, loss_fn)"
   ]
  },
  {
   "cell_type": "code",
   "execution_count": 36,
   "metadata": {},
   "outputs": [
    {
     "name": "stdout",
     "output_type": "stream",
     "text": [
      "153.37960815429688\n"
     ]
    },
    {
     "data": {
      "image/png": "[encoded data removed]",
      "text/plain": [
       "<Figure size 432x288 with 1 Axes>"
      ]
     },
     "metadata": {
      "needs_background": "light"
     },
     "output_type": "display_data"
    }
   ],
   "source": [
    "y_data_borpi = list(zip(*test_data))\n",
    "print(preds[0])\n",
    "items_plot = [y_data_borpi[1][t] for t in range(len(y_data_borpi[1]))]\n",
    "plt.plot(list(range(len(preds))), preds)\n",
    "plt.plot(list(range(len(items_plot))), items_plot)\n",
    "axes = plt.gca()\n",
    "axes.set_ylim([145,170])\n",
    "axes.set_xlim([231000,232000])\n",
    "plt.show()"
   ]
  },
  {
   "cell_type": "code",
   "execution_count": null,
   "metadata": {},
   "outputs": [],
   "source": []
  },
  {
   "cell_type": "code",
   "execution_count": null,
   "metadata": {},
   "outputs": [],
   "source": []
  }
 ],
 "metadata": {
  "kernelspec": {
   "display_name": "Python 3",
   "language": "python",
   "name": "python3"
  },
  "language_info": {
   "codemirror_mode": {
    "name": "ipython",
    "version": 3
   },
   "file_extension": ".py",
   "mimetype": "text/x-python",
   "name": "python",
   "nbconvert_exporter": "python",
   "pygments_lexer": "ipython3",
   "version": "3.7.9"
  }
 },
 "nbformat": 4,
 "nbformat_minor": 4
}
