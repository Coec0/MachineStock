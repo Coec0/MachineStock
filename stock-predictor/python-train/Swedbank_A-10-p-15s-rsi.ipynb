{
 "cells": [
  {
   "cell_type": "code",
   "execution_count": 1,
   "metadata": {},
   "outputs": [],
   "source": [
    "import torch\n",
    "from torch import nn\n",
    "from torch.utils.data import TensorDataset\n",
    "from torch.utils.data import DataLoader\n",
    "import torch.nn.functional as F\n",
    "from torch import optim\n",
    "import numpy as np\n",
    "import pandas as pd\n",
    "import datetime\n",
    "import matplotlib.pyplot as plt"
   ]
  },
  {
   "cell_type": "code",
   "execution_count": 2,
   "metadata": {},
   "outputs": [],
   "source": [
    "x_data = pd.read_csv(\"data/x_15_38.csv\", sep=\";\", usecols = [i for i in range(11)])"
   ]
  },
  {
   "cell_type": "code",
   "execution_count": 3,
   "metadata": {},
   "outputs": [],
   "source": [
    "y_data = pd.read_csv(\"data/y_Swedbank_A_10.csv\", sep=\";\")"
   ]
  },
  {
   "cell_type": "code",
   "execution_count": 4,
   "metadata": {
    "scrolled": true
   },
   "outputs": [
    {
     "data": {
      "text/html": [
       "<div>\n",
       "<style scoped>\n",
       "    .dataframe tbody tr th:only-of-type {\n",
       "        vertical-align: middle;\n",
       "    }\n",
       "\n",
       "    .dataframe tbody tr th {\n",
       "        vertical-align: top;\n",
       "    }\n",
       "\n",
       "    .dataframe thead th {\n",
       "        text-align: right;\n",
       "    }\n",
       "</style>\n",
       "<table border=\"1\" class=\"dataframe\">\n",
       "  <thead>\n",
       "    <tr style=\"text-align: right;\">\n",
       "      <th></th>\n",
       "      <th>Swedbank_A-price-0</th>\n",
       "      <th>Swedbank_A-price-1</th>\n",
       "      <th>Swedbank_A-price-2</th>\n",
       "      <th>Swedbank_A-price-3</th>\n",
       "      <th>Swedbank_A-price-4</th>\n",
       "      <th>Swedbank_A-price-5</th>\n",
       "      <th>Swedbank_A-price-6</th>\n",
       "      <th>Swedbank_A-price-7</th>\n",
       "      <th>Swedbank_A-price-8</th>\n",
       "      <th>Swedbank_A-price-9</th>\n",
       "      <th>Swedbank_Arsi</th>\n",
       "    </tr>\n",
       "  </thead>\n",
       "  <tbody>\n",
       "    <tr>\n",
       "      <th>0</th>\n",
       "      <td>145.14</td>\n",
       "      <td>145.14</td>\n",
       "      <td>145.14</td>\n",
       "      <td>145.14</td>\n",
       "      <td>145.14</td>\n",
       "      <td>145.14</td>\n",
       "      <td>145.14</td>\n",
       "      <td>145.14</td>\n",
       "      <td>145.14</td>\n",
       "      <td>145.14</td>\n",
       "      <td>20.75473</td>\n",
       "    </tr>\n",
       "    <tr>\n",
       "      <th>1</th>\n",
       "      <td>145.14</td>\n",
       "      <td>145.14</td>\n",
       "      <td>145.14</td>\n",
       "      <td>145.14</td>\n",
       "      <td>145.14</td>\n",
       "      <td>145.14</td>\n",
       "      <td>145.14</td>\n",
       "      <td>145.14</td>\n",
       "      <td>145.14</td>\n",
       "      <td>145.20</td>\n",
       "      <td>20.75473</td>\n",
       "    </tr>\n",
       "    <tr>\n",
       "      <th>2</th>\n",
       "      <td>145.14</td>\n",
       "      <td>145.14</td>\n",
       "      <td>145.14</td>\n",
       "      <td>145.14</td>\n",
       "      <td>145.14</td>\n",
       "      <td>145.14</td>\n",
       "      <td>145.14</td>\n",
       "      <td>145.14</td>\n",
       "      <td>145.14</td>\n",
       "      <td>145.20</td>\n",
       "      <td>20.75473</td>\n",
       "    </tr>\n",
       "    <tr>\n",
       "      <th>3</th>\n",
       "      <td>145.14</td>\n",
       "      <td>145.14</td>\n",
       "      <td>145.14</td>\n",
       "      <td>145.14</td>\n",
       "      <td>145.14</td>\n",
       "      <td>145.14</td>\n",
       "      <td>145.14</td>\n",
       "      <td>145.14</td>\n",
       "      <td>145.14</td>\n",
       "      <td>145.20</td>\n",
       "      <td>20.75473</td>\n",
       "    </tr>\n",
       "    <tr>\n",
       "      <th>4</th>\n",
       "      <td>145.14</td>\n",
       "      <td>145.14</td>\n",
       "      <td>145.14</td>\n",
       "      <td>145.14</td>\n",
       "      <td>145.14</td>\n",
       "      <td>145.14</td>\n",
       "      <td>145.14</td>\n",
       "      <td>145.14</td>\n",
       "      <td>145.14</td>\n",
       "      <td>145.20</td>\n",
       "      <td>20.75473</td>\n",
       "    </tr>\n",
       "  </tbody>\n",
       "</table>\n",
       "</div>"
      ],
      "text/plain": [
       "   Swedbank_A-price-0  Swedbank_A-price-1  Swedbank_A-price-2  \\\n",
       "0              145.14              145.14              145.14   \n",
       "1              145.14              145.14              145.14   \n",
       "2              145.14              145.14              145.14   \n",
       "3              145.14              145.14              145.14   \n",
       "4              145.14              145.14              145.14   \n",
       "\n",
       "   Swedbank_A-price-3  Swedbank_A-price-4  Swedbank_A-price-5  \\\n",
       "0              145.14              145.14              145.14   \n",
       "1              145.14              145.14              145.14   \n",
       "2              145.14              145.14              145.14   \n",
       "3              145.14              145.14              145.14   \n",
       "4              145.14              145.14              145.14   \n",
       "\n",
       "   Swedbank_A-price-6  Swedbank_A-price-7  Swedbank_A-price-8  \\\n",
       "0              145.14              145.14              145.14   \n",
       "1              145.14              145.14              145.14   \n",
       "2              145.14              145.14              145.14   \n",
       "3              145.14              145.14              145.14   \n",
       "4              145.14              145.14              145.14   \n",
       "\n",
       "   Swedbank_A-price-9  Swedbank_Arsi  \n",
       "0              145.14       20.75473  \n",
       "1              145.20       20.75473  \n",
       "2              145.20       20.75473  \n",
       "3              145.20       20.75473  \n",
       "4              145.20       20.75473  "
      ]
     },
     "execution_count": 4,
     "metadata": {},
     "output_type": "execute_result"
    }
   ],
   "source": [
    "x_data.head() "
   ]
  },
  {
   "cell_type": "code",
   "execution_count": 5,
   "metadata": {},
   "outputs": [
    {
     "data": {
      "text/html": [
       "<div>\n",
       "<style scoped>\n",
       "    .dataframe tbody tr th:only-of-type {\n",
       "        vertical-align: middle;\n",
       "    }\n",
       "\n",
       "    .dataframe tbody tr th {\n",
       "        vertical-align: top;\n",
       "    }\n",
       "\n",
       "    .dataframe thead th {\n",
       "        text-align: right;\n",
       "    }\n",
       "</style>\n",
       "<table border=\"1\" class=\"dataframe\">\n",
       "  <thead>\n",
       "    <tr style=\"text-align: right;\">\n",
       "      <th></th>\n",
       "      <th>15s</th>\n",
       "      <th>15sa</th>\n",
       "      <th>15ud</th>\n",
       "      <th>30s</th>\n",
       "      <th>30sa</th>\n",
       "      <th>30ud</th>\n",
       "      <th>45s</th>\n",
       "      <th>45sa</th>\n",
       "      <th>45ud</th>\n",
       "      <th>60s</th>\n",
       "      <th>...</th>\n",
       "      <th>180s</th>\n",
       "      <th>180sa</th>\n",
       "      <th>180ud</th>\n",
       "      <th>300s</th>\n",
       "      <th>300sa</th>\n",
       "      <th>300ud</th>\n",
       "      <th>600s</th>\n",
       "      <th>600sa</th>\n",
       "      <th>600ud</th>\n",
       "      <th>ts</th>\n",
       "    </tr>\n",
       "  </thead>\n",
       "  <tbody>\n",
       "    <tr>\n",
       "      <th>0</th>\n",
       "      <td>145.14</td>\n",
       "      <td>145.0</td>\n",
       "      <td>0</td>\n",
       "      <td>145.14</td>\n",
       "      <td>145.070000</td>\n",
       "      <td>0</td>\n",
       "      <td>145.24</td>\n",
       "      <td>145.24</td>\n",
       "      <td>1</td>\n",
       "      <td>145.32</td>\n",
       "      <td>...</td>\n",
       "      <td>145.16</td>\n",
       "      <td>145.168</td>\n",
       "      <td>1</td>\n",
       "      <td>145.34</td>\n",
       "      <td>145.263</td>\n",
       "      <td>1</td>\n",
       "      <td>145.26</td>\n",
       "      <td>145.238333</td>\n",
       "      <td>1</td>\n",
       "      <td>1604390404</td>\n",
       "    </tr>\n",
       "    <tr>\n",
       "      <th>1</th>\n",
       "      <td>145.14</td>\n",
       "      <td>145.0</td>\n",
       "      <td>-1</td>\n",
       "      <td>145.00</td>\n",
       "      <td>145.046667</td>\n",
       "      <td>-1</td>\n",
       "      <td>145.24</td>\n",
       "      <td>145.24</td>\n",
       "      <td>1</td>\n",
       "      <td>145.32</td>\n",
       "      <td>...</td>\n",
       "      <td>145.16</td>\n",
       "      <td>145.168</td>\n",
       "      <td>-1</td>\n",
       "      <td>145.34</td>\n",
       "      <td>145.263</td>\n",
       "      <td>1</td>\n",
       "      <td>145.26</td>\n",
       "      <td>145.238333</td>\n",
       "      <td>1</td>\n",
       "      <td>1604390405</td>\n",
       "    </tr>\n",
       "    <tr>\n",
       "      <th>2</th>\n",
       "      <td>145.14</td>\n",
       "      <td>145.0</td>\n",
       "      <td>-1</td>\n",
       "      <td>145.00</td>\n",
       "      <td>145.046667</td>\n",
       "      <td>-1</td>\n",
       "      <td>145.24</td>\n",
       "      <td>145.24</td>\n",
       "      <td>1</td>\n",
       "      <td>145.32</td>\n",
       "      <td>...</td>\n",
       "      <td>145.16</td>\n",
       "      <td>145.168</td>\n",
       "      <td>-1</td>\n",
       "      <td>145.34</td>\n",
       "      <td>145.263</td>\n",
       "      <td>1</td>\n",
       "      <td>145.26</td>\n",
       "      <td>145.238333</td>\n",
       "      <td>1</td>\n",
       "      <td>1604390406</td>\n",
       "    </tr>\n",
       "    <tr>\n",
       "      <th>3</th>\n",
       "      <td>145.14</td>\n",
       "      <td>145.0</td>\n",
       "      <td>-1</td>\n",
       "      <td>145.00</td>\n",
       "      <td>145.046667</td>\n",
       "      <td>-1</td>\n",
       "      <td>145.24</td>\n",
       "      <td>145.24</td>\n",
       "      <td>1</td>\n",
       "      <td>145.32</td>\n",
       "      <td>...</td>\n",
       "      <td>145.16</td>\n",
       "      <td>145.168</td>\n",
       "      <td>-1</td>\n",
       "      <td>145.34</td>\n",
       "      <td>145.263</td>\n",
       "      <td>1</td>\n",
       "      <td>145.26</td>\n",
       "      <td>145.238333</td>\n",
       "      <td>1</td>\n",
       "      <td>1604390407</td>\n",
       "    </tr>\n",
       "    <tr>\n",
       "      <th>4</th>\n",
       "      <td>145.14</td>\n",
       "      <td>145.0</td>\n",
       "      <td>-1</td>\n",
       "      <td>145.00</td>\n",
       "      <td>145.046667</td>\n",
       "      <td>-1</td>\n",
       "      <td>145.24</td>\n",
       "      <td>145.24</td>\n",
       "      <td>1</td>\n",
       "      <td>145.32</td>\n",
       "      <td>...</td>\n",
       "      <td>145.16</td>\n",
       "      <td>145.168</td>\n",
       "      <td>-1</td>\n",
       "      <td>145.34</td>\n",
       "      <td>145.263</td>\n",
       "      <td>1</td>\n",
       "      <td>145.26</td>\n",
       "      <td>145.238333</td>\n",
       "      <td>1</td>\n",
       "      <td>1604390408</td>\n",
       "    </tr>\n",
       "  </tbody>\n",
       "</table>\n",
       "<p>5 rows × 22 columns</p>\n",
       "</div>"
      ],
      "text/plain": [
       "      15s   15sa  15ud     30s        30sa  30ud     45s    45sa  45ud  \\\n",
       "0  145.14  145.0     0  145.14  145.070000     0  145.24  145.24     1   \n",
       "1  145.14  145.0    -1  145.00  145.046667    -1  145.24  145.24     1   \n",
       "2  145.14  145.0    -1  145.00  145.046667    -1  145.24  145.24     1   \n",
       "3  145.14  145.0    -1  145.00  145.046667    -1  145.24  145.24     1   \n",
       "4  145.14  145.0    -1  145.00  145.046667    -1  145.24  145.24     1   \n",
       "\n",
       "      60s  ...    180s    180sa  180ud    300s    300sa  300ud    600s  \\\n",
       "0  145.32  ...  145.16  145.168      1  145.34  145.263      1  145.26   \n",
       "1  145.32  ...  145.16  145.168     -1  145.34  145.263      1  145.26   \n",
       "2  145.32  ...  145.16  145.168     -1  145.34  145.263      1  145.26   \n",
       "3  145.32  ...  145.16  145.168     -1  145.34  145.263      1  145.26   \n",
       "4  145.32  ...  145.16  145.168     -1  145.34  145.263      1  145.26   \n",
       "\n",
       "        600sa  600ud          ts  \n",
       "0  145.238333      1  1604390404  \n",
       "1  145.238333      1  1604390405  \n",
       "2  145.238333      1  1604390406  \n",
       "3  145.238333      1  1604390407  \n",
       "4  145.238333      1  1604390408  \n",
       "\n",
       "[5 rows x 22 columns]"
      ]
     },
     "execution_count": 5,
     "metadata": {},
     "output_type": "execute_result"
    }
   ],
   "source": [
    "y_data.head()"
   ]
  },
  {
   "cell_type": "code",
   "execution_count": 6,
   "metadata": {},
   "outputs": [
    {
     "data": {
      "text/plain": [
       "(1809209, 11)"
      ]
     },
     "execution_count": 6,
     "metadata": {},
     "output_type": "execute_result"
    }
   ],
   "source": [
    "x_data.shape"
   ]
  },
  {
   "cell_type": "code",
   "execution_count": 7,
   "metadata": {},
   "outputs": [
    {
     "data": {
      "text/plain": [
       "(1809209,)"
      ]
     },
     "execution_count": 7,
     "metadata": {},
     "output_type": "execute_result"
    }
   ],
   "source": [
    "y_data = y_data[\"15s\"] #300s - 5min exakt price\n",
    "y_data.shape"
   ]
  },
  {
   "cell_type": "code",
   "execution_count": 8,
   "metadata": {},
   "outputs": [],
   "source": [
    "def splitData(xs, ys, trainRatio):\n",
    "    t = round(len(xs)*trainRatio)\n",
    "    \n",
    "    train_data_x = torch.tensor(xs[:t].values, dtype=torch.float32)\n",
    "    train_data_y = torch.tensor(ys[:t].values, dtype=torch.float32)\n",
    "    \n",
    "    d = round(len(xs[t:])/2)\n",
    "    \n",
    "    dev_data_x = torch.tensor(xs[t:][:d].values, dtype=torch.float32)\n",
    "    dev_data_y = torch.tensor(ys[t:][:d].values, dtype=torch.float32)\n",
    "    \n",
    "    test_data_x = torch.tensor(xs[t:][d:].values, dtype=torch.float32)\n",
    "    test_data_y = torch.tensor(ys[t:][d:].values, dtype=torch.float32)\n",
    "    \n",
    "    #print(test_data_y.shape)\n",
    "    \n",
    "    return TensorDataset(train_data_x, train_data_y), TensorDataset(dev_data_x, dev_data_y), list(zip(test_data_x, test_data_y))"
   ]
  },
  {
   "cell_type": "code",
   "execution_count": 9,
   "metadata": {},
   "outputs": [],
   "source": [
    "train_data, dev_data, test_data = splitData(x_data, y_data, 0.8)"
   ]
  },
  {
   "cell_type": "code",
   "execution_count": 13,
   "metadata": {},
   "outputs": [],
   "source": [
    "input_size=11\n",
    "batch_size=128\n",
    "nbr_epochs=5"
   ]
  },
  {
   "cell_type": "code",
   "execution_count": 14,
   "metadata": {},
   "outputs": [],
   "source": [
    "#compute_unit = \"cuda:0\" if torch.cuda.is_available() else \"cpu\"\n",
    "device = torch.device('cuda:0')\n",
    "#compute_unit = \"cpu\""
   ]
  },
  {
   "cell_type": "code",
   "execution_count": 15,
   "metadata": {},
   "outputs": [],
   "source": [
    "#dtype = torch.FloatTensor\n",
    "dtype = torch.cuda.FloatTensor # Uncomment this to run on GPU"
   ]
  },
  {
   "cell_type": "code",
   "execution_count": 23,
   "metadata": {},
   "outputs": [],
   "source": [
    "class StockModel(nn.Module):\n",
    "    def __init__(self, input_size):\n",
    "        super().__init__()\n",
    "        self.fc1 = nn.Linear(input_size, 30).type(dtype)\n",
    "        #torch.nn.init.normal_(self.fc1.weight, mean=0, std=1.0)\n",
    "        self.fc2 = nn.Linear(30, 10).type(dtype)\n",
    "        #torch.nn.init.normal_(self.fc2.weight, mean=0, std=1.0)\n",
    "        self.fc3 = nn.Linear(10, 1).type(dtype)\n",
    "    \n",
    "    def forward(self, x):\n",
    "        x = F.relu(self.fc1(x))\n",
    "        x = F.relu(self.fc2(x))\n",
    "        return F.relu(self.fc3(x))\n",
    "\n",
    "model = StockModel(input_size)\n",
    "loss_fn = nn.MSELoss()\n",
    "optimizer = optim.Adam(model.parameters(), lr=0.01)"
   ]
  },
  {
   "cell_type": "code",
   "execution_count": 24,
   "metadata": {},
   "outputs": [],
   "source": [
    "def evaluate_model(data, model, loss_fn):\n",
    "    losses = []\n",
    "    predictions = []\n",
    "    with torch.no_grad():\n",
    "        for x, y in data:\n",
    "            y = y.squeeze().type(dtype)\n",
    "            x = x.squeeze().type(dtype)\n",
    "            pred = model(x)\n",
    "            loss = loss_fn(pred, y)\n",
    "            losses.append(loss.item())\n",
    "            predictions.extend(pred.tolist())\n",
    "        avg_loss = sum(losses)/len(losses)    \n",
    "    \n",
    "    return avg_loss, predictions"
   ]
  },
  {
   "cell_type": "code",
   "execution_count": 25,
   "metadata": {},
   "outputs": [],
   "source": [
    "def train_model(model, train_data_loader, dev_data_loader, loss_fn, optimizer, epochrange, batchsize):\n",
    "    for epoch in range(epochrange):\n",
    "        losses = []\n",
    "        n_correct = 0\n",
    "        for x, y in train_data_loader:\n",
    "            y = y.squeeze().type(dtype)\n",
    "            x = x.squeeze().type(dtype)\n",
    "            \n",
    "            pred = model(x)\n",
    "            loss = loss_fn(pred, y)\n",
    "\n",
    "            losses.append(loss.item())\n",
    "            loss.backward()\n",
    "            optimizer.step()\n",
    "            optimizer.zero_grad()    \n",
    "\n",
    "        # Compute accuracy and loss in the entire training set\n",
    "        train_avg_loss = sum(losses)/len(losses)    \n",
    "        \n",
    "        dev_avg_loss,_ = evaluate_model(dev_data_loader, model, loss_fn)\n",
    "        \n",
    "        # Display metrics\n",
    "        display_str = 'Epoch {} '\n",
    "        display_str += '\\tLoss: {:.3f} '\n",
    "        display_str += '\\tLoss (val): {:.3f}'\n",
    "        print(display_str.format(epoch, train_avg_loss, dev_avg_loss))"
   ]
  },
  {
   "cell_type": "code",
   "execution_count": 26,
   "metadata": {},
   "outputs": [],
   "source": [
    "train_data_loader = DataLoader(train_data, batch_size=batch_size)\n",
    "dev_data_loader = DataLoader(dev_data, batch_size=batch_size)"
   ]
  },
  {
   "cell_type": "code",
   "execution_count": 27,
   "metadata": {
    "scrolled": false
   },
   "outputs": [
    {
     "name": "stdout",
     "output_type": "stream",
     "text": [
      "Epoch 0 \tLoss: 8.327 \tLoss (val): 2.106\n",
      "Epoch 1 \tLoss: 1.009 \tLoss (val): 0.877\n",
      "Epoch 2 \tLoss: 0.499 \tLoss (val): 1.452\n",
      "Epoch 3 \tLoss: 0.410 \tLoss (val): 0.897\n",
      "Epoch 4 \tLoss: 0.305 \tLoss (val): 0.638\n"
     ]
    }
   ],
   "source": [
    "model = model.to(device)\n",
    "train_model(model, train_data_loader, dev_data_loader, loss_fn, optimizer, nbr_epochs, batch_size)"
   ]
  },
  {
   "cell_type": "code",
   "execution_count": 28,
   "metadata": {},
   "outputs": [],
   "source": [
    "_, preds = evaluate_model(test_data, model, loss_fn)"
   ]
  },
  {
   "cell_type": "code",
   "execution_count": 30,
   "metadata": {
    "scrolled": true
   },
   "outputs": [
    {
     "name": "stdout",
     "output_type": "stream",
     "text": [
      "164.08523559570312\n"
     ]
    },
    {
     "data": {
      "image/png": "[encoded data removed]",
      "text/plain": [
       "<Figure size 432x288 with 1 Axes>"
      ]
     },
     "metadata": {
      "needs_background": "light"
     },
     "output_type": "display_data"
    }
   ],
   "source": [
    "y_data_borpi = list(zip(*test_data))\n",
    "print(preds[0])\n",
    "items_plot = [y_data_borpi[1][t] for t in range(len(y_data_borpi[1]))]\n",
    "plt.plot(list(range(len(preds))), preds)\n",
    "plt.plot(list(range(len(items_plot))), items_plot)\n",
    "axes = plt.gca()\n",
    "axes.set_ylim([145,170])\n",
    "axes.set_xlim([146500,147000])\n",
    "plt.show()"
   ]
  },
  {
   "cell_type": "code",
   "execution_count": null,
   "metadata": {},
   "outputs": [],
   "source": []
  }
 ],
 "metadata": {
  "kernelspec": {
   "display_name": "Python 3",
   "language": "python",
   "name": "python3"
  },
  "language_info": {
   "codemirror_mode": {
    "name": "ipython",
    "version": 3
   },
   "file_extension": ".py",
   "mimetype": "text/x-python",
   "name": "python",
   "nbconvert_exporter": "python",
   "pygments_lexer": "ipython3",
   "version": "3.7.9"
  }
 },
 "nbformat": 4,
 "nbformat_minor": 4
}
