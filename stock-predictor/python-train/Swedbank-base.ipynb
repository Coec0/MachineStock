{
 "cells": [
  {
   "cell_type": "code",
   "execution_count": 49,
   "metadata": {},
   "outputs": [],
   "source": [
    "import torch\n",
    "from torch import nn\n",
    "from torch.utils.data import TensorDataset\n",
    "from torch.utils.data import DataLoader\n",
    "import torch.nn.functional as F\n",
    "from torch import optim\n",
    "import numpy as np\n",
    "import pandas as pd\n",
    "import datetime\n",
    "import matplotlib.pyplot as plt\n",
    "import gc\n",
    "import math\n",
    "from sklearn.metrics import r2_score "
   ]
  },
  {
   "cell_type": "code",
   "execution_count": 50,
   "metadata": {},
   "outputs": [],
   "source": [
    "#Params\n",
    "input_size= 400\n",
    "batch_size= 512\n",
    "nbr_epochs= 10\n",
    "data_split_ratio=0.8\n",
    "chunksize = 1000000\n",
    "lr = 0.000001\n",
    "save_model_epochs = [5]\n",
    "model_name = \"models/Swedbank\"\n",
    "y_column = \"5s\"\n",
    "files_x = [\"../python-docker/Swedbank_A/x_Swedbank_A_200_p_ema_rsi_macd_volatility_channels_time.csv\",]\n",
    "files_y = [\"../python-docker/Swedbank_A/y_Swedbank_A_200.csv\",]"
   ]
  },
  {
   "cell_type": "code",
   "execution_count": 51,
   "metadata": {},
   "outputs": [],
   "source": [
    "def splitData(xs, ys, trainRatio):\n",
    "    t = round(len(xs)*trainRatio)\n",
    "    train_data_x = torch.tensor(xs[:t].values, dtype=torch.float32)\n",
    "    train_data_y = torch.tensor(ys[:t].values, dtype=torch.float32)\n",
    "    dev_data_x = torch.tensor(xs[t:].values, dtype=torch.float32)\n",
    "    dev_data_y = torch.tensor(ys[t:].values, dtype=torch.float32)\n",
    "    return TensorDataset(train_data_x, train_data_y), TensorDataset(dev_data_x, dev_data_y)"
   ]
  },
  {
   "cell_type": "code",
   "execution_count": 52,
   "metadata": {},
   "outputs": [],
   "source": [
    "dtype = torch.cuda.FloatTensor\n",
    "device = torch.device('cuda:0')"
   ]
  },
  {
   "cell_type": "code",
   "execution_count": 53,
   "metadata": {},
   "outputs": [],
   "source": [
    "class DeepModel(nn.Module):\n",
    "    def __init__(self, input_size):\n",
    "        super().__init__()\n",
    "        self.fc1 = nn.Linear(input_size, input_size*2).type(dtype)\n",
    "        self.fc1.weight.data.uniform_(-0.1, 0.1)\n",
    "        self.fc2 = nn.Linear(input_size*2, round(input_size*1.5)).type(dtype)\n",
    "        self.fc2.weight.data.uniform_(-0.1, 0.1)\n",
    "        self.fc3 = nn.Linear(round(input_size*1.5), round(input_size*0.5)).type(dtype)\n",
    "        self.fc3.weight.data.uniform_(-0.1, 0.1)\n",
    "        self.fc4 = nn.Linear(round(input_size*0.5), 20).type(dtype)\n",
    "        self.fc4.weight.data.uniform_(-0.1, 0.1)\n",
    "        self.fc5 = nn.Linear(20, 1).type(dtype)\n",
    "        self.fc5.weight.data.uniform_(-0.1, 0.1)\n",
    "        \n",
    "    def forward(self, x):\n",
    "        x = F.leaky_relu(self.fc1(x))\n",
    "        x = F.leaky_relu(self.fc2(x))\n",
    "        x = F.leaky_relu(self.fc3(x))\n",
    "        x= F.leaky_relu(self.fc4(x))\n",
    "        x = F.leaky_relu(self.fc5(x))\n",
    "        return x"
   ]
  },
  {
   "cell_type": "code",
   "execution_count": 54,
   "metadata": {},
   "outputs": [],
   "source": [
    "class ShallowModel(nn.Module):\n",
    "    def __init__(self, input_size):\n",
    "        super().__init__()\n",
    "        self.fc1 = nn.Linear(input_size, input_size*3).type(dtype)\n",
    "        self.fc1.weight.data.uniform_(-0.1, 0.1)\n",
    "        self.fc2 = nn.Linear(input_size*3, round(input_size*0.5)).type(dtype)\n",
    "        self.fc2.weight.data.uniform_(-0.1, 0.1)\n",
    "        self.fc3 = nn.Linear(round(input_size*0.5, 1)).type(dtype)\n",
    "        self.fc3.weight.data.uniform_(-0.1, 0.1)\n",
    "    \n",
    "    def forward(self, x):\n",
    "        x = F.leaky_relu(self.fc1(x))\n",
    "        x = F.leaky_relu(self.fc2(x))\n",
    "        x = F.leaky_relu(self.fc3(x))\n",
    "        return x"
   ]
  },
  {
   "cell_type": "code",
   "execution_count": 55,
   "metadata": {},
   "outputs": [],
   "source": [
    "def evaluate_model(data, model, loss_fn):\n",
    "    losses = []\n",
    "    ys = []\n",
    "    predictions = []\n",
    "    model.eval()\n",
    "    with torch.no_grad():\n",
    "        for x, y in data:\n",
    "            y = y.type(dtype)\n",
    "            x = x.type(dtype)\n",
    "            pred = model(x).squeeze()\n",
    "            loss = loss_fn(pred, y)\n",
    "            losses.append(loss.item())\n",
    "            ys.extend(y.tolist())\n",
    "            predictions.extend(pred.tolist())\n",
    "        avg_loss = sum(losses)/len(losses)    \n",
    "    r2 = r2_score(ys, predictions)\n",
    "    return avg_loss, predictions, r2"
   ]
  },
  {
   "cell_type": "code",
   "execution_count": 56,
   "metadata": {},
   "outputs": [],
   "source": [
    "def train_model(model, train_data_loader, dev_data_loader, loss_fn, optimizer, epochrange, batchsize):\n",
    "    for epoch in range(epochrange):\n",
    "        losses = []\n",
    "        n_correct = 0\n",
    "        model.train()\n",
    "        for x, y in train_data_loader:\n",
    "            y = y.type(dtype)\n",
    "            x = x.type(dtype)\n",
    "            pred = model(x).squeeze()\n",
    "            loss = loss_fn(pred, y)\n",
    "            losses.append(loss.item())\n",
    "            loss.backward()\n",
    "            optimizer.step()\n",
    "            optimizer.zero_grad()    \n",
    "\n",
    "        # Compute accuracy and loss in the entire training set\n",
    "        train_avg_loss = sum(losses)/len(losses)    \n",
    "        \n",
    "        dev_avg_loss,_,r2 = evaluate_model(dev_data_loader, model, loss_fn)\n",
    "        \n",
    "        # Display metrics\n",
    "        display_str = 'Epoch {} '\n",
    "        display_str += '\\tLoss: {:.6f} '\n",
    "        display_str += '\\tLoss (val): {:.6f}'\n",
    "        display_str += '\\tR^2 score: {:.4f}'\n",
    "        print(display_str.format(epoch, train_avg_loss, dev_avg_loss, r2))"
   ]
  },
  {
   "cell_type": "code",
   "execution_count": 57,
   "metadata": {},
   "outputs": [],
   "source": [
    "def train_chunk(model, loss_fn, optimizer, nbr_epochs, x_data, y_data, data_split_ratio, batch_size):\n",
    "    train_data, dev_data = splitData(x_data, y_data, data_split_ratio)\n",
    "    train_data_loader = DataLoader(train_data, batch_size=batch_size, drop_last=True)\n",
    "    dev_data_loader = DataLoader(dev_data, batch_size=batch_size, drop_last=True)\n",
    "    train_model(model, train_data_loader, dev_data_loader, loss_fn, optimizer, nbr_epochs, batch_size)"
   ]
  },
  {
   "cell_type": "code",
   "execution_count": 58,
   "metadata": {},
   "outputs": [],
   "source": [
    "def save_model(model, epochnumber):\n",
    "    if epochnumber in save_model_epochs:\n",
    "        model_name += \"_\"+str(epochnumber)+\".pt\"\n",
    "        torch.save(model, )"
   ]
  },
  {
   "cell_type": "code",
   "execution_count": 59,
   "metadata": {
    "scrolled": true
   },
   "outputs": [
    {
     "name": "stdout",
     "output_type": "stream",
     "text": [
      "Current file: ../python-docker/Swedbank_A/x_Swedbank_A_200_p_ema_rsi_macd_volatility_channels_time.csv\n",
      "Number of chunks: 4\n"
     ]
    },
    {
     "name": "stderr",
     "output_type": "stream",
     "text": [
      "C:\\Users\\kajen\\.conda\\envs\\titantesttest\\lib\\site-packages\\ipykernel_launcher.py:16: ParserWarning: Both a converter and dtype were specified for column ts - only the converter will be used\n",
      "  app.launch_new_instance()\n"
     ]
    },
    {
     "name": "stdout",
     "output_type": "stream",
     "text": [
      "Progress: 0.00%\n",
      "Epoch 0 \tLoss: 14937.149690 \tLoss (val): 2695.577956\tR^2 score: -2281.5664\n",
      "Epoch 1 \tLoss: 2020.218434 \tLoss (val): 1298.236265\tR^2 score: -1098.3229\n",
      "Epoch 2 \tLoss: 1001.145266 \tLoss (val): 1545.420290\tR^2 score: -1307.6338\n",
      "Epoch 3 \tLoss: 489.129534 \tLoss (val): 575.474591\tR^2 score: -486.3014\n",
      "Epoch 4 \tLoss: 279.064632 \tLoss (val): 217.167956\tR^2 score: -182.8939\n",
      "Epoch 5 \tLoss: 182.964129 \tLoss (val): 300.920066\tR^2 score: -253.8136\n",
      "Epoch 6 \tLoss: 112.062693 \tLoss (val): 410.593126\tR^2 score: -346.6828\n",
      "Epoch 7 \tLoss: 85.034492 \tLoss (val): 588.765382\tR^2 score: -497.5558\n",
      "Epoch 8 \tLoss: 63.720610 \tLoss (val): 1006.330183\tR^2 score: -851.1421\n",
      "Epoch 9 \tLoss: 43.667800 \tLoss (val): 129.392843\tR^2 score: -108.5675\n"
     ]
    },
    {
     "name": "stderr",
     "output_type": "stream",
     "text": [
      "C:\\Users\\kajen\\.conda\\envs\\titantesttest\\lib\\site-packages\\ipykernel_launcher.py:16: ParserWarning: Both a converter and dtype were specified for column ts - only the converter will be used\n",
      "  app.launch_new_instance()\n"
     ]
    },
    {
     "name": "stdout",
     "output_type": "stream",
     "text": [
      "Progress: 25.00%\n",
      "Epoch 0 \tLoss: 25.727277 \tLoss (val): 21.297411\tR^2 score: -21.5459\n",
      "Epoch 1 \tLoss: 19.955110 \tLoss (val): 87.695106\tR^2 score: -91.8359\n",
      "Epoch 2 \tLoss: 20.990757 \tLoss (val): 32.571295\tR^2 score: -33.4807\n",
      "Epoch 3 \tLoss: 15.471250 \tLoss (val): 98.460913\tR^2 score: -103.2328\n",
      "Epoch 4 \tLoss: 15.230764 \tLoss (val): 98.232517\tR^2 score: -102.9910\n",
      "Epoch 5 \tLoss: 15.904260 \tLoss (val): 38.108670\tR^2 score: -39.3426\n",
      "Epoch 6 \tLoss: 12.977672 \tLoss (val): 81.562275\tR^2 score: -85.3435\n",
      "Epoch 7 \tLoss: 13.399242 \tLoss (val): 66.132376\tR^2 score: -69.0091\n",
      "Epoch 8 \tLoss: 12.081754 \tLoss (val): 71.337617\tR^2 score: -74.5195\n",
      "Epoch 9 \tLoss: 10.488023 \tLoss (val): 65.262046\tR^2 score: -68.0878\n"
     ]
    },
    {
     "name": "stderr",
     "output_type": "stream",
     "text": [
      "C:\\Users\\kajen\\.conda\\envs\\titantesttest\\lib\\site-packages\\ipykernel_launcher.py:16: ParserWarning: Both a converter and dtype were specified for column ts - only the converter will be used\n",
      "  app.launch_new_instance()\n"
     ]
    },
    {
     "name": "stdout",
     "output_type": "stream",
     "text": [
      "Progress: 50.00%\n",
      "Epoch 0 \tLoss: 11.678520 \tLoss (val): 7.798666\tR^2 score: -0.3234\n",
      "Epoch 1 \tLoss: 10.644803 \tLoss (val): 7.438851\tR^2 score: -0.2624\n",
      "Epoch 2 \tLoss: 10.857067 \tLoss (val): 7.204083\tR^2 score: -0.2225\n",
      "Epoch 3 \tLoss: 10.894900 \tLoss (val): 6.926385\tR^2 score: -0.1754\n",
      "Epoch 4 \tLoss: 9.731803 \tLoss (val): 7.712603\tR^2 score: -0.3088\n",
      "Epoch 5 \tLoss: 7.620157 \tLoss (val): 6.184891\tR^2 score: -0.0496\n",
      "Epoch 6 \tLoss: 8.656806 \tLoss (val): 7.330864\tR^2 score: -0.2441\n",
      "Epoch 7 \tLoss: 7.956496 \tLoss (val): 6.638748\tR^2 score: -0.1266\n",
      "Epoch 8 \tLoss: 7.812340 \tLoss (val): 6.368777\tR^2 score: -0.0808\n",
      "Epoch 9 \tLoss: 7.841730 \tLoss (val): 11.304892\tR^2 score: -0.9185\n"
     ]
    },
    {
     "name": "stderr",
     "output_type": "stream",
     "text": [
      "C:\\Users\\kajen\\.conda\\envs\\titantesttest\\lib\\site-packages\\ipykernel_launcher.py:16: ParserWarning: Both a converter and dtype were specified for column ts - only the converter will be used\n",
      "  app.launch_new_instance()\n"
     ]
    },
    {
     "name": "stdout",
     "output_type": "stream",
     "text": [
      "Progress: 75.00%\n",
      "Epoch 0 \tLoss: 4.693220 \tLoss (val): 13.383084\tR^2 score: -2.9000\n",
      "Epoch 1 \tLoss: 4.996632 \tLoss (val): 9.762161\tR^2 score: -1.8448\n",
      "Epoch 2 \tLoss: 4.498108 \tLoss (val): 9.577082\tR^2 score: -1.7909\n",
      "Epoch 3 \tLoss: 4.419426 \tLoss (val): 5.513877\tR^2 score: -0.6068\n",
      "Epoch 4 \tLoss: 3.976927 \tLoss (val): 4.351822\tR^2 score: -0.2682\n",
      "Epoch 5 \tLoss: 4.163356 \tLoss (val): 4.366423\tR^2 score: -0.2724\n",
      "Epoch 6 \tLoss: 4.057747 \tLoss (val): 4.289091\tR^2 score: -0.2499\n",
      "Epoch 7 \tLoss: 4.131988 \tLoss (val): 4.485365\tR^2 score: -0.3071\n",
      "Epoch 8 \tLoss: 4.088525 \tLoss (val): 4.017019\tR^2 score: -0.1706\n",
      "Epoch 9 \tLoss: 4.094705 \tLoss (val): 4.140659\tR^2 score: -0.2066\n"
     ]
    },
    {
     "name": "stderr",
     "output_type": "stream",
     "text": [
      "C:\\Users\\kajen\\.conda\\envs\\titantesttest\\lib\\site-packages\\ipykernel_launcher.py:16: ParserWarning: Both a converter and dtype were specified for column ts - only the converter will be used\n",
      "  app.launch_new_instance()\n"
     ]
    },
    {
     "name": "stdout",
     "output_type": "stream",
     "text": [
      "Progress: 100.00%\n",
      "Append test data\n"
     ]
    }
   ],
   "source": [
    "#Start training\n",
    "model = DeepModel(input_size)\n",
    "loss_fn = nn.MSELoss()\n",
    "optimizer = optim.AdamW(model.parameters(), lr=lr, eps=0.001)\n",
    "model = model.to(device)\n",
    "test_data_x = pd.DataFrame()\n",
    "test_data_y = pd.DataFrame()\n",
    "for i in range(len(files_x)):\n",
    "    print(\"Current file: \" + files_x[i])\n",
    "    total_rows = sum(1 for row in open(files_x[i], 'r'))\n",
    "    number_of_loops = int(total_rows/chunksize)\n",
    "    print(\"Number of chunks: \" + str(number_of_loops))\n",
    "    current_loop = 0\n",
    "    with pd.read_csv(files_x[i], sep=\";\", dtype=\"float32\", usecols = [j for j in range(input_size)], chunksize=chunksize) as reader_x,\\\n",
    "    pd.read_csv(files_y[i], sep=\";\", dtype=\"float32\", converters = {'ts': int}, chunksize=chunksize) as reader_y:\n",
    "        for chunk_x, chunk_y in zip(reader_x, reader_y):\n",
    "            print(\"Progress: \" + \"{:.2f}\".format(100 * current_loop/number_of_loops) + \"%\")\n",
    "            x_data = chunk_x\n",
    "            y_data = chunk_y\n",
    "            if(current_loop < data_split_ratio * number_of_loops):\n",
    "                y_data = y_data[y_column]\n",
    "                train_chunk(model, loss_fn, optimizer, nbr_epochs, x_data, y_data, data_split_ratio, batch_size)\n",
    "            else:\n",
    "                print(\"Append test data\")\n",
    "                test_data_x = test_data_x.append(x_data)\n",
    "                test_data_y = test_data_y.append(y_data)\n",
    "            current_loop+=1"
   ]
  },
  {
   "cell_type": "code",
   "execution_count": 60,
   "metadata": {},
   "outputs": [
    {
     "name": "stdout",
     "output_type": "stream",
     "text": [
      "(207392, 400)\n",
      "(207392, 9)\n"
     ]
    }
   ],
   "source": [
    "print(test_data_x.shape)\n",
    "print(test_data_y.shape)\n",
    "test_data_x = torch.tensor(test_data_x.values, dtype=torch.float32)\n",
    "test_data_y = torch.tensor(test_data_y[y_column].values, dtype=torch.float32)\n",
    "test_data = TensorDataset(test_data_x, test_data_y)"
   ]
  },
  {
   "cell_type": "code",
   "execution_count": 61,
   "metadata": {},
   "outputs": [
    {
     "name": "stdout",
     "output_type": "stream",
     "text": [
      "Test loss: 4.651281317162507\n",
      "Test R^2: 0.0595384843520963\n"
     ]
    }
   ],
   "source": [
    "test_data_loader = DataLoader(test_data, batch_size=2)\n",
    "loss, preds, r2 = evaluate_model(test_data_loader, model, loss_fn)\n",
    "print(\"Test loss: \" + str(loss))\n",
    "print(\"Test R^2: \" + str(r2))"
   ]
  },
  {
   "cell_type": "markdown",
   "metadata": {},
   "source": [
    "Stock: Swedbank A\n",
    "\n",
    "Inputdata: 200 market order (price) and channels\n",
    "\n",
    "Target: Price 30s into future\n",
    "\n",
    "Network type: 5 layer FFNN. Using leaky relu activation function\n",
    "\n",
    "First plot is predictions ploted against avg window price\n",
    "\n",
    "Second plot is Target, Last price and predictions\n",
    "\n",
    "Third plot is Predictions and target overview"
   ]
  },
  {
   "cell_type": "code",
   "execution_count": 62,
   "metadata": {},
   "outputs": [
    {
     "ename": "NameError",
     "evalue": "name 'x_avg' is not defined",
     "output_type": "error",
     "traceback": [
      "\u001b[1;31m---------------------------------------------------------------------------\u001b[0m",
      "\u001b[1;31mNameError\u001b[0m                                 Traceback (most recent call last)",
      "\u001b[1;32m<ipython-input-62-ad823794457c>\u001b[0m in \u001b[0;36m<module>\u001b[1;34m\u001b[0m\n\u001b[0;32m      1\u001b[0m \u001b[0mplt\u001b[0m\u001b[1;33m.\u001b[0m\u001b[0mplot\u001b[0m\u001b[1;33m(\u001b[0m\u001b[0mlist\u001b[0m\u001b[1;33m(\u001b[0m\u001b[0mrange\u001b[0m\u001b[1;33m(\u001b[0m\u001b[0mlen\u001b[0m\u001b[1;33m(\u001b[0m\u001b[0mpreds\u001b[0m\u001b[1;33m)\u001b[0m\u001b[1;33m)\u001b[0m\u001b[1;33m)\u001b[0m\u001b[1;33m,\u001b[0m \u001b[0mpreds\u001b[0m\u001b[1;33m,\u001b[0m \u001b[0mlabel\u001b[0m\u001b[1;33m=\u001b[0m\u001b[1;34m\"Predictions\"\u001b[0m\u001b[1;33m)\u001b[0m\u001b[1;33m\u001b[0m\u001b[1;33m\u001b[0m\u001b[0m\n\u001b[1;32m----> 2\u001b[1;33m \u001b[0mplt\u001b[0m\u001b[1;33m.\u001b[0m\u001b[0mplot\u001b[0m\u001b[1;33m(\u001b[0m\u001b[0mlist\u001b[0m\u001b[1;33m(\u001b[0m\u001b[0mrange\u001b[0m\u001b[1;33m(\u001b[0m\u001b[0mlen\u001b[0m\u001b[1;33m(\u001b[0m\u001b[0mx_avg\u001b[0m\u001b[1;33m)\u001b[0m\u001b[1;33m)\u001b[0m\u001b[1;33m)\u001b[0m\u001b[1;33m,\u001b[0m \u001b[0mx_avg\u001b[0m\u001b[1;33m.\u001b[0m\u001b[0mtolist\u001b[0m\u001b[1;33m(\u001b[0m\u001b[1;33m)\u001b[0m\u001b[1;33m,\u001b[0m \u001b[0mlabel\u001b[0m\u001b[1;33m=\u001b[0m\u001b[1;34m\"Avg price\"\u001b[0m\u001b[1;33m)\u001b[0m\u001b[1;33m\u001b[0m\u001b[1;33m\u001b[0m\u001b[0m\n\u001b[0m\u001b[0;32m      3\u001b[0m \u001b[0maxes\u001b[0m \u001b[1;33m=\u001b[0m \u001b[0mplt\u001b[0m\u001b[1;33m.\u001b[0m\u001b[0mgca\u001b[0m\u001b[1;33m(\u001b[0m\u001b[1;33m)\u001b[0m\u001b[1;33m\u001b[0m\u001b[1;33m\u001b[0m\u001b[0m\n\u001b[0;32m      4\u001b[0m \u001b[0maxes\u001b[0m\u001b[1;33m.\u001b[0m\u001b[0mset_ylim\u001b[0m\u001b[1;33m(\u001b[0m\u001b[1;33m[\u001b[0m\u001b[1;36m145\u001b[0m\u001b[1;33m,\u001b[0m\u001b[1;36m148\u001b[0m\u001b[1;33m]\u001b[0m\u001b[1;33m)\u001b[0m\u001b[1;33m\u001b[0m\u001b[1;33m\u001b[0m\u001b[0m\n\u001b[0;32m      5\u001b[0m \u001b[0mplt\u001b[0m\u001b[1;33m.\u001b[0m\u001b[0mlegend\u001b[0m\u001b[1;33m(\u001b[0m\u001b[1;33m)\u001b[0m\u001b[1;33m\u001b[0m\u001b[1;33m\u001b[0m\u001b[0m\n",
      "\u001b[1;31mNameError\u001b[0m: name 'x_avg' is not defined"
     ]
    },
    {
     "data": {
      "image/png": "[encoded data removed]",
      "text/plain": [
       "<Figure size 432x288 with 1 Axes>"
      ]
     },
     "metadata": {
      "needs_background": "light"
     },
     "output_type": "display_data"
    }
   ],
   "source": [
    "plt.plot(list(range(len(preds))), preds, label=\"Predictions\")\n",
    "plt.plot(list(range(len(x_avg))), x_avg.tolist(), label=\"Avg price\")\n",
    "axes = plt.gca()\n",
    "axes.set_ylim([145,148])\n",
    "plt.legend()\n",
    "axes.set_xlim([140000,160000])\n",
    "plt.show()\n",
    "\n",
    "plt.plot(list(range(len(x_last_price))), x_last_price.tolist(), label=\"Last price\")\n",
    "plt.plot(list(range(len(test_data_y))), test_data_y.tolist(), label=\"Target\")\n",
    "plt.plot(list(range(len(preds))), preds, label=\"Predictions\")\n",
    "axes = plt.gca()\n",
    "axes.set_ylim([145,148])\n",
    "axes.set_xlim([159000,160000])\n",
    "plt.legend()\n",
    "plt.show()\n",
    "\n",
    "plt.plot(list(range(len(preds))), preds, label=\"Predictions\")\n",
    "plt.plot(list(range(len(test_data_y))), test_data_y.tolist(), label=\"Target\")\n",
    "axes = plt.gca()\n",
    "plt.legend()\n",
    "plt.show()"
   ]
  },
  {
   "cell_type": "code",
   "execution_count": null,
   "metadata": {},
   "outputs": [],
   "source": []
  },
  {
   "cell_type": "code",
   "execution_count": null,
   "metadata": {},
   "outputs": [],
   "source": []
  },
  {
   "cell_type": "code",
   "execution_count": null,
   "metadata": {},
   "outputs": [],
   "source": []
  }
 ],
 "metadata": {
  "kernelspec": {
   "display_name": "Python 3",
   "language": "python",
   "name": "python3"
  },
  "language_info": {
   "codemirror_mode": {
    "name": "ipython",
    "version": 3
   },
   "file_extension": ".py",
   "mimetype": "text/x-python",
   "name": "python",
   "nbconvert_exporter": "python",
   "pygments_lexer": "ipython3",
   "version": "3.7.9"
  }
 },
 "nbformat": 4,
 "nbformat_minor": 4
}
