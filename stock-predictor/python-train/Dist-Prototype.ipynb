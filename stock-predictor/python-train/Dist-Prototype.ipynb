{
 "cells": [
  {
   "cell_type": "code",
   "execution_count": 1,
   "id": "subjective-plumbing",
   "metadata": {},
   "outputs": [],
   "source": [
    "import torch\n",
    "from torch import nn\n",
    "from time import sleep\n",
    "import threading"
   ]
  },
  {
   "cell_type": "code",
   "execution_count": 24,
   "id": "enhanced-alert",
   "metadata": {},
   "outputs": [],
   "source": [
    "class Box:\n",
    "    def __init__(self, net, id_ , input_size, name=None):\n",
    "        self.name = \"Id\"+str(id_) if name == None else name\n",
    "        self.id = id_\n",
    "        self.net = net\n",
    "        self.input_size = input_size\n",
    "        self.listeners = []\n",
    "        self.inputs = [0]*input_size\n",
    "        self.inputs_ready = [False]*input_size\n",
    "        self.thread = threading.Thread(target=self._predict)\n",
    "        self.thread.start()\n",
    "    \n",
    "    def add_listener(self, listener):\n",
    "        self.listeners.append(listener)\n",
    "    \n",
    "    def set_input(self, idx, input_):\n",
    "        self.inputs[idx] = input_\n",
    "        self.inputs_ready[idx] = True\n",
    "    \n",
    "    def set_inputs(self, inputs):\n",
    "        self.inputs = inputs\n",
    "        self.inputs_ready = [True]*self.input_size\n",
    "    \n",
    "    def create_input_tensor(self):\n",
    "        return torch.FloatTensor(self.inputs)\n",
    "    \n",
    "    def send_output(self, listener, output):\n",
    "        #TODO: Send via IP or something here\n",
    "        listener.set_input(self.id, output)\n",
    "    \n",
    "    def send_prediction(self, prediction):\n",
    "        for listener in self.listeners:\n",
    "            self.send_output(listener, prediction)\n",
    "      \n",
    "    def _predict(self):\n",
    "        while True:\n",
    "            if all(self.inputs_ready):\n",
    "                prediction = self.net(self.create_input_tensor())\n",
    "                self.send_prediction(prediction)\n",
    "                print(self.name + \"\\tPred: \" + str(prediction))\n",
    "                self.inputs_ready = [False]*self.input_size\n",
    "                break"
   ]
  },
  {
   "cell_type": "code",
   "execution_count": 25,
   "id": "communist-diana",
   "metadata": {},
   "outputs": [
    {
     "name": "stdout",
     "output_type": "stream",
     "text": [
      "Id1\tPred: tensor([0.2417], grad_fn=<AddBackward0>)\n",
      "Id0\tPred: tensor([-0.1062], grad_fn=<AddBackward0>)\n",
      "Id2\tPred: tensor([0.4807], grad_fn=<AddBackward0>)\n"
     ]
    }
   ],
   "source": [
    "boxnet = nn.Sequential(\n",
    "          nn.Linear(2,1))\n",
    "\n",
    "net1 = nn.Sequential(\n",
    "          nn.Linear(5,3),\n",
    "          nn.ReLU(),\n",
    "          nn.Linear(3,1))\n",
    "\n",
    "net2 = nn.Sequential(\n",
    "          nn.Linear(5,3),\n",
    "          nn.ReLU(),\n",
    "          nn.Linear(3,1))\n",
    "\n",
    "x1 = torch.rand(5)\n",
    "x2 = torch.rand(5)\n",
    "\n",
    "\n",
    "in1 = Box(net1, 0, 5)\n",
    "in2 = Box(net2, 1, 5)\n",
    "box = Box(boxnet, 2, 2)\n",
    "\n",
    "in1.add_listener(box)\n",
    "in2.add_listener(box)\n",
    "\n",
    "in1.set_inputs(x1)\n",
    "in2.set_inputs(x2)"
   ]
  },
  {
   "cell_type": "code",
   "execution_count": null,
   "id": "comic-crash",
   "metadata": {},
   "outputs": [],
   "source": []
  },
  {
   "cell_type": "code",
   "execution_count": null,
   "id": "protected-poland",
   "metadata": {},
   "outputs": [],
   "source": []
  }
 ],
 "metadata": {
  "kernelspec": {
   "display_name": "Python 3",
   "language": "python",
   "name": "python3"
  },
  "language_info": {
   "codemirror_mode": {
    "name": "ipython",
    "version": 3
   },
   "file_extension": ".py",
   "mimetype": "text/x-python",
   "name": "python",
   "nbconvert_exporter": "python",
   "pygments_lexer": "ipython3",
   "version": "3.7.9"
  }
 },
 "nbformat": 4,
 "nbformat_minor": 5
}
