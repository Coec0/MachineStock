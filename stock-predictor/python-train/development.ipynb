{
 "cells": [
  {
   "cell_type": "code",
   "execution_count": 41,
   "metadata": {},
   "outputs": [],
   "source": [
    "import torch\n",
    "from torch import nn\n",
    "from torch.utils.data import TensorDataset\n",
    "from torch.utils.data import DataLoader\n",
    "import torch.nn.functional as F\n",
    "from torch import optim\n",
    "import numpy as np\n",
    "import pandas as pd\n",
    "import datetime\n",
    "import matplotlib.pyplot as plt"
   ]
  },
  {
   "cell_type": "code",
   "execution_count": 42,
   "metadata": {},
   "outputs": [],
   "source": [
    "data = pd.read_csv(\"combined.csv\", sep=\";\")"
   ]
  },
  {
   "cell_type": "code",
   "execution_count": 43,
   "metadata": {},
   "outputs": [
    {
     "data": {
      "text/html": [
       "<div>\n",
       "<style scoped>\n",
       "    .dataframe tbody tr th:only-of-type {\n",
       "        vertical-align: middle;\n",
       "    }\n",
       "\n",
       "    .dataframe tbody tr th {\n",
       "        vertical-align: top;\n",
       "    }\n",
       "\n",
       "    .dataframe thead th {\n",
       "        text-align: right;\n",
       "    }\n",
       "</style>\n",
       "<table border=\"1\" class=\"dataframe\">\n",
       "  <thead>\n",
       "    <tr style=\"text-align: right;\">\n",
       "      <th></th>\n",
       "      <th>stock</th>\n",
       "      <th>sector</th>\n",
       "      <th>publication_time</th>\n",
       "      <th>mmt_flags</th>\n",
       "      <th>transaction_id_code</th>\n",
       "      <th>price</th>\n",
       "      <th>volume</th>\n",
       "    </tr>\n",
       "  </thead>\n",
       "  <tbody>\n",
       "    <tr>\n",
       "      <th>0</th>\n",
       "      <td>Sagax_pref</td>\n",
       "      <td>realestate</td>\n",
       "      <td>1612168072</td>\n",
       "      <td>12-------PH---</td>\n",
       "      <td>000184194</td>\n",
       "      <td>35.5</td>\n",
       "      <td>84</td>\n",
       "    </tr>\n",
       "    <tr>\n",
       "      <th>1</th>\n",
       "      <td>Sagax_pref</td>\n",
       "      <td>realestate</td>\n",
       "      <td>1612166402</td>\n",
       "      <td>1O-------PH---</td>\n",
       "      <td>000020852</td>\n",
       "      <td>35.4</td>\n",
       "      <td>8</td>\n",
       "    </tr>\n",
       "    <tr>\n",
       "      <th>2</th>\n",
       "      <td>Sagax_pref</td>\n",
       "      <td>realestate</td>\n",
       "      <td>1612166402</td>\n",
       "      <td>1O-------PH---</td>\n",
       "      <td>000020851</td>\n",
       "      <td>35.4</td>\n",
       "      <td>28</td>\n",
       "    </tr>\n",
       "    <tr>\n",
       "      <th>3</th>\n",
       "      <td>Sagax_pref</td>\n",
       "      <td>realestate</td>\n",
       "      <td>1612166402</td>\n",
       "      <td>1O-------PH---</td>\n",
       "      <td>000020850</td>\n",
       "      <td>35.4</td>\n",
       "      <td>37</td>\n",
       "    </tr>\n",
       "    <tr>\n",
       "      <th>4</th>\n",
       "      <td>Sagax_pref</td>\n",
       "      <td>realestate</td>\n",
       "      <td>1612166402</td>\n",
       "      <td>1O-------PH---</td>\n",
       "      <td>000020849</td>\n",
       "      <td>35.4</td>\n",
       "      <td>19</td>\n",
       "    </tr>\n",
       "  </tbody>\n",
       "</table>\n",
       "</div>"
      ],
      "text/plain": [
       "        stock      sector  publication_time       mmt_flags  \\\n",
       "0  Sagax_pref  realestate        1612168072  12-------PH---   \n",
       "1  Sagax_pref  realestate        1612166402  1O-------PH---   \n",
       "2  Sagax_pref  realestate        1612166402  1O-------PH---   \n",
       "3  Sagax_pref  realestate        1612166402  1O-------PH---   \n",
       "4  Sagax_pref  realestate        1612166402  1O-------PH---   \n",
       "\n",
       "  transaction_id_code  price  volume  \n",
       "0           000184194   35.5      84  \n",
       "1           000020852   35.4       8  \n",
       "2           000020851   35.4      28  \n",
       "3           000020850   35.4      37  \n",
       "4           000020849   35.4      19  "
      ]
     },
     "execution_count": 43,
     "metadata": {},
     "output_type": "execute_result"
    }
   ],
   "source": [
    "data.head()"
   ]
  },
  {
   "cell_type": "code",
   "execution_count": 44,
   "metadata": {},
   "outputs": [
    {
     "name": "stdout",
     "output_type": "stream",
     "text": [
      "14865\n",
      "1858\n",
      "1858\n"
     ]
    }
   ],
   "source": [
    "ericsson_data = data[data[\"stock\"]==\"Ericsson_A\"]\n",
    "ericsson_data = ericsson_data[[\"publication_time\", \"price\"]].iloc[::-1]\n",
    "\n",
    "\n",
    "ericsson_data_ = ericsson_data[\"price\"]\n",
    "t = round(len(ericsson_data_)*0.8)\n",
    "\n",
    "train_data = ericsson_data_[:t].to_numpy()\n",
    "dev_test_data = ericsson_data_[t:]\n",
    "d = round(len(dev_test_data)/2)\n",
    "dev_data = dev_test_data[:d].to_numpy()\n",
    "test_data_ = dev_test_data[d:].to_numpy()\n",
    "print(len(train_data))\n",
    "print(len(dev_data))\n",
    "print(len(test_data_))"
   ]
  },
  {
   "cell_type": "code",
   "execution_count": 45,
   "metadata": {},
   "outputs": [
    {
     "data": {
      "text/plain": [
       "'2020-11-02 09:00:00'"
      ]
     },
     "execution_count": 45,
     "metadata": {},
     "output_type": "execute_result"
    }
   ],
   "source": [
    "datetime.datetime.fromtimestamp(1604304000).strftime('%Y-%m-%d %H:%M:%S')"
   ]
  },
  {
   "cell_type": "code",
   "execution_count": 46,
   "metadata": {},
   "outputs": [
    {
     "data": {
      "image/png": "[encoded data removed]",
      "text/plain": [
       "<Figure size 432x288 with 1 Axes>"
      ]
     },
     "metadata": {
      "needs_background": "light"
     },
     "output_type": "display_data"
    }
   ],
   "source": [
    "plt.scatter(ericsson_data[\"publication_time\"], ericsson_data[\"price\"])\n",
    "plt.show()"
   ]
  },
  {
   "cell_type": "code",
   "execution_count": 47,
   "metadata": {},
   "outputs": [],
   "source": [
    "def getXY(data, input_size, index):\n",
    "    X = data[index:index+input_size]\n",
    "    return (X,data[index+input_size])"
   ]
  },
  {
   "cell_type": "code",
   "execution_count": 48,
   "metadata": {},
   "outputs": [],
   "source": [
    "def createTensorDataset(data, input_size):\n",
    "    xs = []\n",
    "    ys = []\n",
    "\n",
    "    for i in range(len(data)-input_size):\n",
    "        x,y = getXY(data,input_size, i)\n",
    "        xs.append(x)\n",
    "        ys.append(y)\n",
    "\n",
    "    xs = torch.tensor(xs, dtype=torch.float32)\n",
    "    ys = torch.tensor(ys, dtype=torch.float32)\n",
    "    return TensorDataset(xs, ys)"
   ]
  },
  {
   "cell_type": "code",
   "execution_count": 71,
   "metadata": {},
   "outputs": [],
   "source": [
    "input_size=30\n",
    "batch_size=1\n",
    "nbr_epochs=20"
   ]
  },
  {
   "cell_type": "code",
   "execution_count": 87,
   "metadata": {},
   "outputs": [],
   "source": [
    "class StockModel(nn.Module):\n",
    "    def __init__(self, input_size):\n",
    "        super().__init__()\n",
    "        self.fc1 = nn.Linear(input_size, 30)\n",
    "        #torch.nn.init.normal_(self.fc1.weight, mean=0, std=1.0)\n",
    "        self.fc2 = nn.Linear(30, 10)\n",
    "        #torch.nn.init.normal_(self.fc2.weight, mean=0, std=1.0)\n",
    "        self.fc3 = nn.Linear(10, 1)\n",
    "    \n",
    "    def forward(self, x):\n",
    "        x = F.relu(self.fc1(x))\n",
    "        x = F.relu(self.fc2(x))\n",
    "        return F.relu(self.fc3(x))\n",
    "\n",
    "model = StockModel(input_size)\n",
    "loss_fn = nn.MSELoss()\n",
    "optimizer = optim.Adam(model.parameters(), lr=0.01)"
   ]
  },
  {
   "cell_type": "code",
   "execution_count": 88,
   "metadata": {},
   "outputs": [],
   "source": [
    "def evaluate_model(data, model, loss_fn):\n",
    "    losses = []\n",
    "    predictions = []\n",
    "    with torch.no_grad():\n",
    "        for x, y in data:\n",
    "            pred = model(x)\n",
    "            loss = loss_fn(pred, y)\n",
    "            losses.append(loss.item())\n",
    "            predictions.append(pred.item())\n",
    "        avg_loss = sum(losses)/len(losses)    \n",
    "    \n",
    "    return avg_loss, predictions"
   ]
  },
  {
   "cell_type": "code",
   "execution_count": 89,
   "metadata": {},
   "outputs": [],
   "source": [
    "def train_model(model, train_data_loader, dev_data_loader, loss_fn, optimizer, epochrange, batchsize):\n",
    "    for epoch in range(epochrange):\n",
    "        losses = []\n",
    "        n_correct = 0\n",
    "        for x, y in train_data_loader:\n",
    "            \n",
    "            y = y.squeeze()\n",
    "            pred = model(x)\n",
    "            loss = loss_fn(pred, y)\n",
    "\n",
    "            losses.append(loss.item())\n",
    "            loss.backward()\n",
    "            optimizer.step()\n",
    "            optimizer.zero_grad()    \n",
    "\n",
    "        # Compute accuracy and loss in the entire training set\n",
    "        train_avg_loss = sum(losses)/len(losses)    \n",
    "        \n",
    "        dev_avg_loss,_ = evaluate_model(dev_data_loader, model, loss_fn)\n",
    "        \n",
    "        # Display metrics\n",
    "        display_str = 'Epoch {} '\n",
    "        display_str += '\\tLoss: {:.3f} '\n",
    "        display_str += '\\tLoss (val): {:.3f}'\n",
    "        print(display_str.format(epoch, train_avg_loss, dev_avg_loss))"
   ]
  },
  {
   "cell_type": "code",
   "execution_count": 90,
   "metadata": {},
   "outputs": [],
   "source": [
    "train_data_loader = DataLoader(createTensorDataset(train_data, input_size), batch_size=batch_size)\n",
    "dev_data_loader = DataLoader(createTensorDataset(dev_data, input_size), batch_size=batch_size)\n",
    "test_data = createTensorDataset(test_data_, input_size)"
   ]
  },
  {
   "cell_type": "code",
   "execution_count": 91,
   "metadata": {
    "scrolled": true
   },
   "outputs": [
    {
     "name": "stdout",
     "output_type": "stream",
     "text": [
      "Epoch 0 \tLoss: 2.928 \tLoss (val): 1.590\n",
      "Epoch 1 \tLoss: 0.390 \tLoss (val): 0.855\n",
      "Epoch 2 \tLoss: 0.347 \tLoss (val): 6.869\n",
      "Epoch 3 \tLoss: 0.328 \tLoss (val): 7.127\n",
      "Epoch 4 \tLoss: 0.328 \tLoss (val): 7.329\n",
      "Epoch 5 \tLoss: 0.328 \tLoss (val): 7.463\n",
      "Epoch 6 \tLoss: 0.328 \tLoss (val): 7.494\n",
      "Epoch 7 \tLoss: 0.329 \tLoss (val): 7.366\n",
      "Epoch 8 \tLoss: 0.330 \tLoss (val): 6.997\n",
      "Epoch 9 \tLoss: 0.333 \tLoss (val): 6.244\n",
      "Epoch 10 \tLoss: 0.336 \tLoss (val): 4.928\n",
      "Epoch 11 \tLoss: 0.341 \tLoss (val): 3.280\n",
      "Epoch 12 \tLoss: 0.345 \tLoss (val): 2.489\n",
      "Epoch 13 \tLoss: 0.349 \tLoss (val): 2.308\n",
      "Epoch 14 \tLoss: 0.351 \tLoss (val): 2.264\n",
      "Epoch 15 \tLoss: 0.353 \tLoss (val): 2.275\n",
      "Epoch 16 \tLoss: 0.356 \tLoss (val): 2.329\n",
      "Epoch 17 \tLoss: 0.361 \tLoss (val): 2.421\n",
      "Epoch 18 \tLoss: 0.371 \tLoss (val): 2.550\n",
      "Epoch 19 \tLoss: 0.378 \tLoss (val): 2.710\n"
     ]
    }
   ],
   "source": [
    "train_model(model, train_data_loader, dev_data_loader, loss_fn, optimizer, nbr_epochs, batch_size)"
   ]
  },
  {
   "cell_type": "code",
   "execution_count": null,
   "metadata": {},
   "outputs": [],
   "source": [
    "_, preds = evaluate_model(test_data, model, loss_fn)"
   ]
  },
  {
   "cell_type": "code",
   "execution_count": null,
   "metadata": {},
   "outputs": [],
   "source": [
    "plt.plot(list(range(len(test_data_))), test_data_)\n",
    "plt.plot(list(range(len(preds))), preds)\n",
    "plt.show()"
   ]
  }
 ],
 "metadata": {
  "kernelspec": {
   "display_name": "Python 3",
   "language": "python",
   "name": "python3"
  },
  "language_info": {
   "codemirror_mode": {
    "name": "ipython",
    "version": 3
   },
   "file_extension": ".py",
   "mimetype": "text/x-python",
   "name": "python",
   "nbconvert_exporter": "python",
   "pygments_lexer": "ipython3",
   "version": "3.8.3"
  }
 },
 "nbformat": 4,
 "nbformat_minor": 4
}
