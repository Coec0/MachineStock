{
 "cells": [
  {
   "cell_type": "code",
   "execution_count": 1,
   "metadata": {},
   "outputs": [],
   "source": [
    "import torch\n",
    "from torch import nn\n",
    "from torch.utils.data import TensorDataset\n",
    "from torch.utils.data import DataLoader\n",
    "import torch.nn.functional as F\n",
    "from torch import optim\n",
    "import numpy as np\n",
    "import pandas as pd\n",
    "import datetime\n",
    "import matplotlib.pyplot as plt\n",
    "import gc\n",
    "import math\n",
    "from sklearn.metrics import r2_score "
   ]
  },
  {
   "cell_type": "code",
   "execution_count": 2,
   "metadata": {},
   "outputs": [],
   "source": [
    "#Params\n",
    "input_size=200\n",
    "batch_size=512\n",
    "nbr_epochs=20\n",
    "data_split_ratio=0.8\n",
    "chunksize = 1000000\n",
    "lr = 0.0001\n",
    "y_column = \"30s\"\n",
    "files_x = [\"data/x_Swedbank_A_200_p_channels.csv\",]\n",
    "files_y = [\"data/y_Swedbank_A_200.csv\",]"
   ]
  },
  {
   "cell_type": "code",
   "execution_count": 3,
   "metadata": {},
   "outputs": [],
   "source": [
    "def splitData(xs, ys, trainRatio):\n",
    "    t = round(len(xs)*trainRatio)\n",
    "    \n",
    "    train_data_x = torch.tensor(xs[:t].values, dtype=torch.float32)\n",
    "    train_data_y = torch.tensor(ys[:t].values, dtype=torch.float32)\n",
    "    \n",
    "    dev_data_x = torch.tensor(xs[t:].values, dtype=torch.float32)\n",
    "    dev_data_y = torch.tensor(ys[t:].values, dtype=torch.float32)\n",
    "    \n",
    "    return TensorDataset(train_data_x, train_data_y), TensorDataset(dev_data_x, dev_data_y)"
   ]
  },
  {
   "cell_type": "code",
   "execution_count": 4,
   "metadata": {},
   "outputs": [],
   "source": [
    "#compute_unit = \"cuda:0\" if torch.cuda.is_available() else \"cpu\"\n",
    "device = torch.device('cuda:0')\n",
    "#device = torch.device(\"cpu\")\n",
    "#compute_unit = \"cpu\""
   ]
  },
  {
   "cell_type": "code",
   "execution_count": 5,
   "metadata": {},
   "outputs": [],
   "source": [
    "#dtype = torch.FloatTensor\n",
    "dtype = torch.cuda.FloatTensor # Uncomment this to run on GPU"
   ]
  },
  {
   "cell_type": "code",
   "execution_count": 6,
   "metadata": {},
   "outputs": [],
   "source": [
    "class StockModel(nn.Module):\n",
    "    def __init__(self, input_size):\n",
    "        super().__init__()\n",
    "        \n",
    "        self.net = nn.Sequential(\n",
    "            nn.Linear(input_size, 300).type(dtype),\n",
    "            nn.LeakyReLU(),\n",
    "            nn.Linear(300, 20).type(dtype),\n",
    "            nn.LeakyReLU(),\n",
    "            nn.Linear(20, 1).type(dtype),\n",
    "            nn.LeakyReLU()\n",
    "        )\n",
    "        \n",
    "        torch.nn.init.xavier_uniform_(self.net[0].weight)\n",
    "        torch.nn.init.xavier_uniform_(self.net[2].weight)\n",
    "        torch.nn.init.xavier_uniform_(self.net[4].weight)\n",
    "        \n",
    "        #self.fc1 = nn.Linear(input_size, 300).type(dtype)\n",
    "        #self.fc1.weight.data.uniform_(-0.1, 0.1)\n",
    "        #self.fc2 = nn.Linear(300, 20).type(dtype)\n",
    "        #self.fc2.weight.data.uniform_(-0.1, 0.1)\n",
    "        #self.fc3 = nn.Linear(20, 1).type(dtype)\n",
    "        #self.fc3.weight.data.uniform_(-0.1, 0.1)\n",
    "        #self.fc4 = nn.Linear(1, 20).type(dtype)\n",
    "        #self.fc4.weight.data.uniform_(-0.1, 0.1)\n",
    "        #self.fc5 = nn.Linear(20, 1).type(dtype)\n",
    "        #elf.fc5.weight.data.uniform_(-0.1, 0.1)\n",
    "        #self.fc6 = nn.Linear(100, 20).type(dtype)\n",
    "        #self.fc6.weight.data.uniform_(-0.1, 0.1)\n",
    "        #self.fc7 = nn.Linear(20, 1).type(dtype)\n",
    "        #self.fc7.weight.data.uniform_(-0.1, 0.1)\n",
    "        \n",
    "        #self.bn1 = nn.BatchNorm1d(num_features=input_size, track_running_stats=True)\n",
    "        #self.sig = nn.Sigmoid()\n",
    "        \n",
    "        #self.drop_layer = nn.Dropout(p=0.010)\n",
    "        #self.sigmoid = nn.Sigmoid()\n",
    "    \n",
    "    def forward(self, x):\n",
    "        x = self.net(x)\n",
    "        return x"
   ]
  },
  {
   "cell_type": "code",
   "execution_count": 7,
   "metadata": {},
   "outputs": [],
   "source": [
    "def evaluate_model(data, model, loss_fn):\n",
    "    losses = []\n",
    "    ys = []\n",
    "    predictions = []\n",
    "    model.eval()\n",
    "    with torch.no_grad():\n",
    "        for x, y in data:\n",
    "            y = y.type(dtype)\n",
    "            x = x.type(dtype)\n",
    "            pred = model(x).squeeze()\n",
    "            loss = loss_fn(pred, y)\n",
    "            losses.append(loss.item())\n",
    "            ys.extend(y.tolist())\n",
    "            predictions.extend(pred.tolist())\n",
    "        avg_loss = sum(losses)/len(losses)    \n",
    "        \n",
    "    r2 = r2_score(ys, predictions)\n",
    "    return avg_loss, predictions, r2"
   ]
  },
  {
   "cell_type": "code",
   "execution_count": 8,
   "metadata": {},
   "outputs": [],
   "source": [
    "def train_model(model, train_data_loader, dev_data_loader, loss_fn, optimizer, epochrange, batchsize):\n",
    "    for epoch in range(epochrange):\n",
    "        losses = []\n",
    "        n_correct = 0\n",
    "        model.train()\n",
    "        for x, y in train_data_loader:\n",
    "            y = y.type(dtype)\n",
    "            x = x.type(dtype)\n",
    "            pred = model(x).squeeze()\n",
    "            loss = loss_fn(pred, y)\n",
    "            losses.append(loss.item())\n",
    "            loss.backward()\n",
    "            optimizer.step()\n",
    "            optimizer.zero_grad()    \n",
    "\n",
    "        # Compute accuracy and loss in the entire training set\n",
    "        train_avg_loss = sum(losses)/len(losses)    \n",
    "        \n",
    "        dev_avg_loss,_,r2 = evaluate_model(dev_data_loader, model, loss_fn)\n",
    "        \n",
    "        # Display metrics\n",
    "        display_str = 'Epoch {} '\n",
    "        display_str += '\\tLoss: {:.6f} '\n",
    "        display_str += '\\tLoss (val): {:.6f}'\n",
    "        display_str += '\\tR^2 score: {:.4f}'\n",
    "        print(display_str.format(epoch, train_avg_loss, dev_avg_loss, r2))"
   ]
  },
  {
   "cell_type": "code",
   "execution_count": 9,
   "metadata": {},
   "outputs": [],
   "source": [
    "def train_chunk(model, loss_fn, optimizer, nbr_epochs, x_data, y_data, data_split_ratio, batch_size):\n",
    "    train_data, dev_data = splitData(x_data, y_data, data_split_ratio)\n",
    "    train_data_loader = DataLoader(train_data, batch_size=batch_size, drop_last=True)\n",
    "    dev_data_loader = DataLoader(dev_data, batch_size=batch_size, drop_last=True)\n",
    "    train_model(model, train_data_loader, dev_data_loader, loss_fn, optimizer, nbr_epochs, batch_size)"
   ]
  },
  {
   "cell_type": "code",
   "execution_count": 10,
   "metadata": {
    "scrolled": true
   },
   "outputs": [
    {
     "name": "stdout",
     "output_type": "stream",
     "text": [
      "Current file: data/x_Swedbank_A_200_p_channels.csv\n",
      "Number of chunks: 4\n"
     ]
    },
    {
     "name": "stderr",
     "output_type": "stream",
     "text": [
      "/home/oscar/anaconda3/envs/gtx/lib/python3.7/site-packages/ipykernel_launcher.py:16: ParserWarning: Both a converter and dtype were specified for column ts - only the converter will be used\n",
      "  app.launch_new_instance()\n"
     ]
    },
    {
     "name": "stdout",
     "output_type": "stream",
     "text": [
      "Progress: 0.00%\n",
      "Epoch 0 \tLoss: 2.812006 \tLoss (val): 0.029132\tR^2 score: 0.9730\n",
      "Epoch 1 \tLoss: 0.846035 \tLoss (val): 0.117212\tR^2 score: 0.8914\n",
      "Epoch 2 \tLoss: 0.958436 \tLoss (val): 0.091848\tR^2 score: 0.9149\n",
      "Epoch 3 \tLoss: 0.924882 \tLoss (val): 0.077659\tR^2 score: 0.9280\n",
      "Epoch 4 \tLoss: 0.899632 \tLoss (val): 0.065667\tR^2 score: 0.9392\n",
      "Epoch 5 \tLoss: 0.881758 \tLoss (val): 0.056795\tR^2 score: 0.9474\n",
      "Epoch 6 \tLoss: 0.846922 \tLoss (val): 0.066320\tR^2 score: 0.9385\n",
      "Epoch 7 \tLoss: 0.806927 \tLoss (val): 0.068302\tR^2 score: 0.9367\n",
      "Epoch 8 \tLoss: 0.780489 \tLoss (val): 0.079417\tR^2 score: 0.9264\n",
      "Epoch 9 \tLoss: 0.754595 \tLoss (val): 0.099290\tR^2 score: 0.9080\n",
      "Epoch 10 \tLoss: 0.728765 \tLoss (val): 0.111208\tR^2 score: 0.8970\n",
      "Epoch 11 \tLoss: 0.704757 \tLoss (val): 0.112344\tR^2 score: 0.8959\n",
      "Epoch 12 \tLoss: 0.681956 \tLoss (val): 0.102652\tR^2 score: 0.9049\n",
      "Epoch 13 \tLoss: 0.661646 \tLoss (val): 0.080242\tR^2 score: 0.9256\n",
      "Epoch 14 \tLoss: 0.642221 \tLoss (val): 0.053105\tR^2 score: 0.9508\n",
      "Epoch 15 \tLoss: 0.625213 \tLoss (val): 0.028906\tR^2 score: 0.9732\n",
      "Epoch 16 \tLoss: 0.619747 \tLoss (val): 0.094379\tR^2 score: 0.9125\n",
      "Epoch 17 \tLoss: 0.613545 \tLoss (val): 0.374723\tR^2 score: 0.6528\n",
      "Epoch 18 \tLoss: 0.644206 \tLoss (val): 0.028252\tR^2 score: 0.9738\n",
      "Epoch 19 \tLoss: 0.571757 \tLoss (val): 0.077524\tR^2 score: 0.9282\n"
     ]
    },
    {
     "name": "stderr",
     "output_type": "stream",
     "text": [
      "/home/oscar/anaconda3/envs/gtx/lib/python3.7/site-packages/ipykernel_launcher.py:16: ParserWarning: Both a converter and dtype were specified for column ts - only the converter will be used\n",
      "  app.launch_new_instance()\n"
     ]
    },
    {
     "name": "stdout",
     "output_type": "stream",
     "text": [
      "Progress: 25.00%\n",
      "Epoch 0 \tLoss: 0.783712 \tLoss (val): 0.132010\tR^2 score: 0.8969\n",
      "Epoch 1 \tLoss: 0.691320 \tLoss (val): 0.258009\tR^2 score: 0.7986\n",
      "Epoch 2 \tLoss: 0.674018 \tLoss (val): 0.417208\tR^2 score: 0.6743\n",
      "Epoch 3 \tLoss: 0.653762 \tLoss (val): 0.457774\tR^2 score: 0.6426\n",
      "Epoch 4 \tLoss: 0.633542 \tLoss (val): 0.457902\tR^2 score: 0.6425\n",
      "Epoch 5 \tLoss: 0.810285 \tLoss (val): 0.259271\tR^2 score: 0.7976\n",
      "Epoch 6 \tLoss: 0.559896 \tLoss (val): 0.253919\tR^2 score: 0.8018\n",
      "Epoch 7 \tLoss: 0.567898 \tLoss (val): 0.139036\tR^2 score: 0.8915\n",
      "Epoch 8 \tLoss: 0.551088 \tLoss (val): 0.159816\tR^2 score: 0.8752\n",
      "Epoch 9 \tLoss: 0.553421 \tLoss (val): 0.309452\tR^2 score: 0.7584\n",
      "Epoch 10 \tLoss: 0.536817 \tLoss (val): 0.235048\tR^2 score: 0.8165\n",
      "Epoch 11 \tLoss: 0.519983 \tLoss (val): 0.208879\tR^2 score: 0.8369\n",
      "Epoch 12 \tLoss: 0.505656 \tLoss (val): 0.197732\tR^2 score: 0.8456\n",
      "Epoch 13 \tLoss: 0.503662 \tLoss (val): 0.193188\tR^2 score: 0.8492\n",
      "Epoch 14 \tLoss: 0.485318 \tLoss (val): 0.184388\tR^2 score: 0.8561\n",
      "Epoch 15 \tLoss: 0.471367 \tLoss (val): 0.176392\tR^2 score: 0.8623\n",
      "Epoch 16 \tLoss: 0.466160 \tLoss (val): 0.161457\tR^2 score: 0.8740\n",
      "Epoch 17 \tLoss: 0.466497 \tLoss (val): 0.155962\tR^2 score: 0.8782\n",
      "Epoch 18 \tLoss: 0.468108 \tLoss (val): 0.195109\tR^2 score: 0.8477\n",
      "Epoch 19 \tLoss: 0.461856 \tLoss (val): 0.210420\tR^2 score: 0.8357\n"
     ]
    },
    {
     "name": "stderr",
     "output_type": "stream",
     "text": [
      "/home/oscar/anaconda3/envs/gtx/lib/python3.7/site-packages/ipykernel_launcher.py:16: ParserWarning: Both a converter and dtype were specified for column ts - only the converter will be used\n",
      "  app.launch_new_instance()\n"
     ]
    },
    {
     "name": "stdout",
     "output_type": "stream",
     "text": [
      "Progress: 50.00%\n",
      "Epoch 0 \tLoss: 0.528583 \tLoss (val): 0.079285\tR^2 score: 0.9918\n",
      "Epoch 1 \tLoss: 0.515962 \tLoss (val): 0.080792\tR^2 score: 0.9916\n",
      "Epoch 2 \tLoss: 0.497233 \tLoss (val): 0.086987\tR^2 score: 0.9910\n",
      "Epoch 3 \tLoss: 0.480522 \tLoss (val): 0.099986\tR^2 score: 0.9896\n",
      "Epoch 4 \tLoss: 0.467050 \tLoss (val): 0.122053\tR^2 score: 0.9873\n",
      "Epoch 5 \tLoss: 0.454976 \tLoss (val): 0.159593\tR^2 score: 0.9835\n",
      "Epoch 6 \tLoss: 0.443036 \tLoss (val): 0.201961\tR^2 score: 0.9791\n",
      "Epoch 7 \tLoss: 0.432059 \tLoss (val): 0.230549\tR^2 score: 0.9761\n",
      "Epoch 8 \tLoss: 0.420978 \tLoss (val): 0.233027\tR^2 score: 0.9758\n",
      "Epoch 9 \tLoss: 0.409009 \tLoss (val): 0.207653\tR^2 score: 0.9785\n",
      "Epoch 10 \tLoss: 0.422152 \tLoss (val): 0.168894\tR^2 score: 0.9825\n",
      "Epoch 11 \tLoss: 0.399348 \tLoss (val): 0.102657\tR^2 score: 0.9894\n",
      "Epoch 12 \tLoss: 0.401049 \tLoss (val): 0.080745\tR^2 score: 0.9916\n",
      "Epoch 13 \tLoss: 0.408810 \tLoss (val): 0.100822\tR^2 score: 0.9895\n",
      "Epoch 14 \tLoss: 0.413226 \tLoss (val): 0.191228\tR^2 score: 0.9802\n",
      "Epoch 15 \tLoss: 0.406727 \tLoss (val): 0.205314\tR^2 score: 0.9787\n",
      "Epoch 16 \tLoss: 0.387739 \tLoss (val): 0.258529\tR^2 score: 0.9732\n",
      "Epoch 17 \tLoss: 0.321261 \tLoss (val): 0.177595\tR^2 score: 0.9816\n",
      "Epoch 18 \tLoss: 0.330964 \tLoss (val): 0.155260\tR^2 score: 0.9839\n",
      "Epoch 19 \tLoss: 0.332957 \tLoss (val): 0.111077\tR^2 score: 0.9885\n"
     ]
    },
    {
     "name": "stderr",
     "output_type": "stream",
     "text": [
      "/home/oscar/anaconda3/envs/gtx/lib/python3.7/site-packages/ipykernel_launcher.py:16: ParserWarning: Both a converter and dtype were specified for column ts - only the converter will be used\n",
      "  app.launch_new_instance()\n"
     ]
    },
    {
     "name": "stdout",
     "output_type": "stream",
     "text": [
      "Progress: 75.00%\n",
      "Epoch 0 \tLoss: 0.261510 \tLoss (val): 0.597490\tR^2 score: 0.9424\n",
      "Epoch 1 \tLoss: 0.259831 \tLoss (val): 0.641423\tR^2 score: 0.9381\n",
      "Epoch 2 \tLoss: 0.228424 \tLoss (val): 0.732898\tR^2 score: 0.9293\n",
      "Epoch 3 \tLoss: 0.228207 \tLoss (val): 0.767733\tR^2 score: 0.9259\n",
      "Epoch 4 \tLoss: 0.218924 \tLoss (val): 0.799931\tR^2 score: 0.9228\n",
      "Epoch 5 \tLoss: 0.242852 \tLoss (val): 0.691305\tR^2 score: 0.9333\n",
      "Epoch 6 \tLoss: 0.207690 \tLoss (val): 0.760541\tR^2 score: 0.9266\n",
      "Epoch 7 \tLoss: 0.219980 \tLoss (val): 0.666277\tR^2 score: 0.9357\n",
      "Epoch 8 \tLoss: 0.199944 \tLoss (val): 0.562213\tR^2 score: 0.9458\n",
      "Epoch 9 \tLoss: 0.195831 \tLoss (val): 0.511999\tR^2 score: 0.9506\n",
      "Epoch 10 \tLoss: 0.192957 \tLoss (val): 0.439714\tR^2 score: 0.9576\n",
      "Epoch 11 \tLoss: 0.189901 \tLoss (val): 0.372274\tR^2 score: 0.9641\n",
      "Epoch 12 \tLoss: 0.186670 \tLoss (val): 0.311043\tR^2 score: 0.9700\n",
      "Epoch 13 \tLoss: 0.182335 \tLoss (val): 0.276456\tR^2 score: 0.9733\n",
      "Epoch 14 \tLoss: 0.202089 \tLoss (val): 0.723671\tR^2 score: 0.9302\n",
      "Epoch 15 \tLoss: 0.199627 \tLoss (val): 0.374810\tR^2 score: 0.9638\n",
      "Epoch 16 \tLoss: 0.188927 \tLoss (val): 0.731028\tR^2 score: 0.9295\n",
      "Epoch 17 \tLoss: 0.201275 \tLoss (val): 0.388781\tR^2 score: 0.9625\n",
      "Epoch 18 \tLoss: 0.188126 \tLoss (val): 0.280587\tR^2 score: 0.9729\n",
      "Epoch 19 \tLoss: 0.183091 \tLoss (val): 0.232982\tR^2 score: 0.9775\n",
      "Progress: 100.00%\n",
      "Append test data\n"
     ]
    },
    {
     "name": "stderr",
     "output_type": "stream",
     "text": [
      "/home/oscar/anaconda3/envs/gtx/lib/python3.7/site-packages/ipykernel_launcher.py:16: ParserWarning: Both a converter and dtype were specified for column ts - only the converter will be used\n",
      "  app.launch_new_instance()\n"
     ]
    }
   ],
   "source": [
    "#Start training\n",
    "model = StockModel(input_size)\n",
    "loss_fn = nn.MSELoss()\n",
    "optimizer = optim.AdamW(model.parameters(), lr=lr, eps=0.001)\n",
    "model = model.to(device)\n",
    "test_data_x = pd.DataFrame()\n",
    "test_data_y = pd.DataFrame()\n",
    "for i in range(len(files_x)):\n",
    "    print(\"Current file: \" + files_x[i])\n",
    "    total_rows = sum(1 for row in open(files_x[i], 'r'))\n",
    "    number_of_loops = int(total_rows/chunksize)\n",
    "    print(\"Number of chunks: \" + str(number_of_loops))\n",
    "    current_loop = 0\n",
    "    with pd.read_csv(files_x[i], sep=\";\", dtype=\"float32\", usecols = [j for j in range(input_size)], chunksize=chunksize) as reader_x,\\\n",
    "    pd.read_csv(files_y[i], sep=\";\", dtype=\"float32\", converters = {'ts': int}, chunksize=chunksize) as reader_y:\n",
    "        for chunk_x, chunk_y in zip(reader_x, reader_y):\n",
    "            print(\"Progress: \" + \"{:.2f}\".format(100 * current_loop/number_of_loops) + \"%\")\n",
    "            x_data = chunk_x\n",
    "            y_data = chunk_y\n",
    "            if(current_loop < data_split_ratio * number_of_loops):\n",
    "                y_data = y_data[y_column]\n",
    "                train_chunk(model, loss_fn, optimizer, nbr_epochs, x_data, y_data, data_split_ratio, batch_size)\n",
    "            else:\n",
    "                print(\"Append test data\")\n",
    "                test_data_x = test_data_x.append(x_data)\n",
    "                test_data_y = test_data_y.append(y_data)\n",
    "            current_loop+=1\n",
    "\n",
    "test_data_x = torch.tensor(test_data_x.values, dtype=torch.float32)\n",
    "test_data_y= torch.tensor(test_data_y[y_column].values, dtype=torch.float32)\n",
    "test_data = TensorDataset(test_data_x, test_data_y)"
   ]
  },
  {
   "cell_type": "code",
   "execution_count": 11,
   "metadata": {},
   "outputs": [
    {
     "name": "stdout",
     "output_type": "stream",
     "text": [
      "Test loss: 0.25885943271566986\n",
      "Test R^2: 0.5545942490324707\n"
     ]
    }
   ],
   "source": [
    "test_data_loader = DataLoader(test_data, batch_size=2)\n",
    "loss, preds, r2 = evaluate_model(test_data_loader, model, loss_fn)\n",
    "print(\"Test loss: \" + str(loss))\n",
    "print(\"Test R^2: \" + str(r2))"
   ]
  },
  {
   "cell_type": "code",
   "execution_count": 12,
   "metadata": {},
   "outputs": [
    {
     "data": {
      "image/png": "[encoded data removed]",
      "text/plain": [
       "<Figure size 432x288 with 1 Axes>"
      ]
     },
     "metadata": {
      "needs_background": "light"
     },
     "output_type": "display_data"
    }
   ],
   "source": [
    "plt.plot(list(range(len(preds))), preds, label=\"Predictions\")\n",
    "plt.plot(list(range(len(test_data_y))), test_data_y.tolist(), label=\"Target\")\n",
    "axes = plt.gca()\n",
    "#axes.set_ylim([146,148])\n",
    "plt.legend()\n",
    "#axes.set_xlim([260000,261200])\n",
    "#axes.set_xlim([100000,120000])\n",
    "#axes.set_xlim([140000,160000])\n",
    "#xes.set_xlim([540000,560000])\n",
    "#axes.set_xlim([610000,660000])\n",
    "#axes.set_xlim([660000,660100])\n",
    "#axes.set_ylim([157,158])\n",
    "plt.show()"
   ]
  },
  {
   "cell_type": "code",
   "execution_count": null,
   "metadata": {},
   "outputs": [],
   "source": []
  },
  {
   "cell_type": "code",
   "execution_count": null,
   "metadata": {},
   "outputs": [],
   "source": []
  }
 ],
 "metadata": {
  "kernelspec": {
   "display_name": "Python 3",
   "language": "python",
   "name": "python3"
  },
  "language_info": {
   "codemirror_mode": {
    "name": "ipython",
    "version": 3
   },
   "file_extension": ".py",
   "mimetype": "text/x-python",
   "name": "python",
   "nbconvert_exporter": "python",
   "pygments_lexer": "ipython3",
   "version": "3.7.9"
  }
 },
 "nbformat": 4,
 "nbformat_minor": 4
}
