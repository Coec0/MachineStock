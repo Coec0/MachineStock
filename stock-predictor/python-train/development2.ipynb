{
 "cells": [
  {
   "cell_type": "code",
   "execution_count": 1,
   "metadata": {},
   "outputs": [],
   "source": [
    "import torch\n",
    "from torch import nn\n",
    "from torch.utils.data import TensorDataset\n",
    "from torch.utils.data import DataLoader\n",
    "import torch.nn.functional as F\n",
    "from torch import optim\n",
    "import numpy as np\n",
    "import pandas as pd\n",
    "import datetime\n",
    "import matplotlib.pyplot as plt\n",
    "import random"
   ]
  },
  {
   "cell_type": "code",
   "execution_count": 2,
   "metadata": {},
   "outputs": [],
   "source": [
    "data_ = pd.read_csv(\"combined.csv\", sep=\";\")"
   ]
  },
  {
   "cell_type": "code",
   "execution_count": 3,
   "metadata": {},
   "outputs": [],
   "source": [
    "ericsson_data = data_[data_[\"stock\"]==\"Ericsson_A\"]\n",
    "all_data = ericsson_data[[\"publication_time\", \"price\", \"volume\"]].iloc[::-1].to_numpy()"
   ]
  },
  {
   "cell_type": "code",
   "execution_count": 11,
   "metadata": {},
   "outputs": [],
   "source": [
    "#Predict 5min into future, only if up or down\n",
    "def splitDataIntoTrainDevTestDataSets(data, input_size, train_ratio, dev_ratio):\n",
    "    xs = []\n",
    "    ys = []\n",
    "\n",
    "    for i in range(len(data)-input_size):\n",
    "        x = data[i:i+input_size]\n",
    "        xs.append(x[:,(1,2)].ravel())\n",
    "\n",
    "        y_time = x[-1,0] + 5*60\n",
    "        y_price = data[data[:,0] < y_time][-1][1]\n",
    "        \n",
    "        if(y_price < x[-1,1]):\n",
    "            y = 0\n",
    "        elif(y_price == x[-1,1]):\n",
    "            y = 1\n",
    "        else:\n",
    "            y = 2\n",
    "        ys.append(y)\n",
    "    \n",
    "    combined = list(zip(xs, ys))\n",
    "    random.shuffle(combined)\n",
    "    xs[:], ys[:] = zip(*combined)\n",
    "    \n",
    "    xs = torch.tensor(xs, dtype=torch.float32)\n",
    "    ys = torch.tensor(ys, dtype=torch.float32)\n",
    "    \n",
    "    train_len = round(len(data)*train_ratio)\n",
    "    dev_len = round(len(data)*dev_ratio)\n",
    "    test_len = len(data) - train_len - dev_len\n",
    "    \n",
    "    train_dataset = TensorDataset(xs[:train_len], ys[:train_len])\n",
    "    dev_dataset = TensorDataset(xs[train_len:train_len+dev_len], ys[train_len:train_len+dev_len])\n",
    "    test_dataset = TensorDataset(xs[train_len+dev_len:], ys[train_len+dev_len:])\n",
    "    \n",
    "    \n",
    "    return train_dataset, dev_dataset, test_dataset"
   ]
  },
  {
   "cell_type": "code",
   "execution_count": 43,
   "metadata": {},
   "outputs": [],
   "source": [
    "input_size=20\n",
    "batch_size=8\n",
    "nbr_epochs=10"
   ]
  },
  {
   "cell_type": "code",
   "execution_count": 44,
   "metadata": {
    "scrolled": false
   },
   "outputs": [
    {
     "name": "stdout",
     "output_type": "stream",
     "text": [
      "Length train data: 14865\n",
      "Length dev data: 1858\n",
      "Length test data: 1838\n"
     ]
    }
   ],
   "source": [
    "train_data, dev_data, test_data = splitDataIntoTrainDevTestDataSets(all_data, input_size, 0.8, 0.1)\n",
    "\n",
    "print(\"Length train data: \" + str(len(train_data)))\n",
    "print(\"Length dev data: \" + str(len(dev_data)))\n",
    "print(\"Length test data: \" + str(len(test_data)))\n",
    "\n",
    "train_data_loader = DataLoader(train_data, batch_size=batch_size)\n",
    "dev_data_loader = DataLoader(dev_data, batch_size=batch_size)"
   ]
  },
  {
   "cell_type": "code",
   "execution_count": 54,
   "metadata": {},
   "outputs": [],
   "source": [
    "class StockModel(nn.Module):\n",
    "    def __init__(self, input_size):\n",
    "        super().__init__()\n",
    "        self.fc1 = nn.Linear(input_size, input_size*2)\n",
    "        self.fc2 = nn.Linear(input_size*2, input_size*2)\n",
    "        self.fc3 = nn.Linear(input_size*2, 20)\n",
    "        self.fc4 = nn.Linear(20, 10)\n",
    "        self.fc5 = nn.Linear(10, 3)\n",
    "    \n",
    "    def forward(self, x):\n",
    "        x = F.relu(self.fc1(x))\n",
    "        x = F.relu(self.fc2(x))\n",
    "        x = F.relu(self.fc3(x))\n",
    "        x = F.relu(self.fc4(x))\n",
    "        return F.log_softmax(self.fc5(x), dim=-1)\n",
    "    \n",
    "    def eval(self, x):\n",
    "        with torch.no_grad():\n",
    "            y_ = self.forward(x)\n",
    "            print(y_)\n",
    "            return y_.argmax().item()"
   ]
  },
  {
   "cell_type": "code",
   "execution_count": 55,
   "metadata": {},
   "outputs": [],
   "source": [
    "def evaluate_model(dev_data_loader, model, loss_fn):\n",
    "    losses = []\n",
    "    n_correct = 0\n",
    "    with torch.no_grad():\n",
    "        for x, y in dev_data_loader:\n",
    "            y = y.long()\n",
    "            pred = model(x)\n",
    "            loss = loss_fn(pred, y)\n",
    "            losses.append(loss.item())\n",
    "            n_correct += torch.sum(pred.argmax(dim=1) == y).item()\n",
    "            \n",
    "        dev_avg_loss = sum(losses)/len(losses)    \n",
    "        dev_acc = n_correct/len(dev_data)\n",
    "    return dev_avg_loss, dev_acc"
   ]
  },
  {
   "cell_type": "code",
   "execution_count": 56,
   "metadata": {},
   "outputs": [],
   "source": [
    "def train_model(model, train_data_loader, dev_data_loader, loss_fn, optimizer, epochrange, batchsize):\n",
    "    for epoch in range(epochrange):\n",
    "        losses = []\n",
    "        n_correct = 0\n",
    "        for x, y in train_data_loader:\n",
    "            y = y.long()\n",
    "            pred = model(x)\n",
    "            \n",
    "            loss = loss_fn(pred, y)\n",
    "        \n",
    "            losses.append(loss.item())\n",
    "            loss.backward()\n",
    "            optimizer.step()\n",
    "            optimizer.zero_grad()    \n",
    "            \n",
    "            n_correct += torch.sum(pred.argmax(dim=1) == y).item()\n",
    "            #n_correct += torch.sum((pred > 0.5) == y.bool()).item()\n",
    "            \n",
    "        # Compute accuracy and loss in the entire training set\n",
    "        train_avg_loss = sum(losses)/len(losses)    \n",
    "        \n",
    "        dev_avg_loss, dec_acc = evaluate_model(dev_data_loader, model, loss_fn)\n",
    "        \n",
    "        train_acc = n_correct/len(train_data)\n",
    "        \n",
    "        # Display metrics\n",
    "        display_str = 'Epoch {} '\n",
    "        display_str += '\\tLoss (train): {:.3f} '\n",
    "        display_str += '\\tAcc (train): {:.3f}% '\n",
    "        display_str += '\\tLoss (dev): {:.3f}'\n",
    "        display_str += '\\tAcc (dev): {:.3f}%'\n",
    "        print(display_str.format(epoch, train_avg_loss, train_acc*100, dev_avg_loss, dec_acc*100))"
   ]
  },
  {
   "cell_type": "code",
   "execution_count": 57,
   "metadata": {},
   "outputs": [
    {
     "name": "stdout",
     "output_type": "stream",
     "text": [
      "Epoch 0 \tLoss (train): 1.198 \tAcc (train): 43.545% \tLoss (dev): 1.068\tAcc (dev): 46.179%\n",
      "Epoch 1 \tLoss (train): 1.083 \tAcc (train): 45.510% \tLoss (dev): 1.059\tAcc (dev): 47.417%\n",
      "Epoch 2 \tLoss (train): 1.069 \tAcc (train): 46.364% \tLoss (dev): 1.058\tAcc (dev): 47.955%\n",
      "Epoch 3 \tLoss (train): 1.058 \tAcc (train): 46.667% \tLoss (dev): 1.056\tAcc (dev): 48.116%\n",
      "Epoch 4 \tLoss (train): 1.053 \tAcc (train): 46.862% \tLoss (dev): 1.057\tAcc (dev): 48.278%\n",
      "Epoch 5 \tLoss (train): 1.051 \tAcc (train): 47.077% \tLoss (dev): 1.052\tAcc (dev): 47.901%\n",
      "Epoch 6 \tLoss (train): 1.045 \tAcc (train): 47.265% \tLoss (dev): 1.057\tAcc (dev): 47.524%\n",
      "Epoch 7 \tLoss (train): 1.043 \tAcc (train): 47.386% \tLoss (dev): 1.057\tAcc (dev): 48.062%\n",
      "Epoch 8 \tLoss (train): 1.041 \tAcc (train): 47.420% \tLoss (dev): 1.064\tAcc (dev): 48.332%\n",
      "Epoch 9 \tLoss (train): 1.038 \tAcc (train): 47.582% \tLoss (dev): 1.068\tAcc (dev): 48.116%\n"
     ]
    }
   ],
   "source": [
    "model = StockModel(input_size*2)\n",
    "loss_fn = nn.NLLLoss()\n",
    "optimizer = optim.Adam(model.parameters(), lr=0.00005)\n",
    "train_model(model, train_data_loader, dev_data_loader, loss_fn, optimizer, nbr_epochs, batch_size)"
   ]
  },
  {
   "cell_type": "code",
   "execution_count": 79,
   "metadata": {},
   "outputs": [],
   "source": [
    "torch.save(model, \"../python-docker/models/Ericsson_A.model\")"
   ]
  },
  {
   "cell_type": "code",
   "execution_count": null,
   "metadata": {},
   "outputs": [],
   "source": []
  }
 ],
 "metadata": {
  "kernelspec": {
   "display_name": "Python 3",
   "language": "python",
   "name": "python3"
  },
  "language_info": {
   "codemirror_mode": {
    "name": "ipython",
    "version": 3
   },
   "file_extension": ".py",
   "mimetype": "text/x-python",
   "name": "python",
   "nbconvert_exporter": "python",
   "pygments_lexer": "ipython3",
   "version": "3.7.9"
  }
 },
 "nbformat": 4,
 "nbformat_minor": 4
}
